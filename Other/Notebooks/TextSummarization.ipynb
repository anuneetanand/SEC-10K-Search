{
 "cells": [
  {
   "cell_type": "code",
   "execution_count": 1,
   "metadata": {},
   "outputs": [
    {
     "name": "stderr",
     "output_type": "stream",
     "text": [
      "[nltk_data] Downloading package punkt to /home/isha/nltk_data...\n",
      "[nltk_data]   Package punkt is already up-to-date!\n"
     ]
    }
   ],
   "source": [
    "import re\n",
    "import nltk\n",
    "import numpy as np\n",
    "import pandas as pd\n",
    "import networkx as nx\n",
    "\n",
    "from nltk.corpus import stopwords\n",
    "from nltk.tokenize import sent_tokenize\n",
    "from sklearn.metrics.pairwise import cosine_similarity\n",
    "# nltk.download('punkt')\n",
    "\n",
    "from summarizer import Summarizer"
   ]
  },
  {
   "cell_type": "markdown",
   "metadata": {},
   "source": [
    "## Method 1\n",
    "---"
   ]
  },
  {
   "cell_type": "code",
   "execution_count": null,
   "metadata": {},
   "outputs": [],
   "source": [
    "text = open('file1.txt','r').read()\n",
    "model = Summarizer()\n",
    "result = model(text, min_length=20)\n",
    "summary = \"\".join(result)\n",
    "print(summary)"
   ]
  },
  {
   "cell_type": "markdown",
   "metadata": {},
   "source": [
    "## Method 2\n",
    "---"
   ]
  },
  {
   "cell_type": "code",
   "execution_count": 11,
   "metadata": {},
   "outputs": [
    {
     "data": {
      "text/plain": [
       "0                         Item 1. Business Description\n",
       "1    Berkshire Hathaway Inc. (“Berkshire,” “Company...\n",
       "2    Berkshire’s operating businesses are managed o...\n",
       "3    Berkshire’s senior management is also responsi...\n",
       "4    Berkshire and its consolidated subsidiaries em...\n",
       "5                 Insurance and Reinsurance Businesses\n",
       "6    Berkshire’s insurance and reinsurance business...\n",
       "7    In direct or primary insurance activities, the...\n",
       "8    Reinsurance contracts are normally classified ...\n",
       "9    Insurance and reinsurance are generally subjec...\n",
       "Name: 0, dtype: object"
      ]
     },
     "execution_count": 11,
     "metadata": {},
     "output_type": "execute_result"
    }
   ],
   "source": [
    "df = pd.read_csv('file1.txt', header=None, delimiter=\"\\t\")\n",
    "df[0]"
   ]
  },
  {
   "cell_type": "code",
   "execution_count": 14,
   "metadata": {},
   "outputs": [
    {
     "data": {
      "text/plain": [
       "['Item 1. Business Description',\n",
       " 'Berkshire Hathaway Inc. (“Berkshire,” “Company” or “Registrant”) is a holding company owning subsidiaries engaged in a large number of diverse business activities.',\n",
       " 'The most important of these are insurance businesses conducted on both a primary basis and a reinsurance basis, a freight rail transportation business and a group of utility and energy generation and distribution businesses.',\n",
       " 'Berkshire also owns and operates numerous other businesses engaged in a variety of activities, as identified herein.',\n",
       " 'Berkshire is domiciled in the state of Delaware, and its corporate headquarters is in Omaha, Nebraska.',\n",
       " 'Berkshire’s operating businesses are managed on an unusually decentralized basis.',\n",
       " 'There are few centralized or integrated business functions.',\n",
       " 'Berkshire’s corporate senior management team participates in and is ultimately responsible for significant capital allocation decisions, investment activities and the selection of the Chief Executive to head each of the operating businesses.',\n",
       " 'Berkshire’s senior management is also responsible for establishing and monitoring Berkshire’s corporate governance practices, including monitoring governance efforts, including those at the operating businesses, and participating in the resolution of governance-related issues as needed.',\n",
       " 'Berkshire’s Board of Directors is responsible for assuring an appropriate successor to the Chief Executive Officer.',\n",
       " 'The Berkshire Code of Business Conduct and Ethics emphasizes, among other things, the commitment to ethics and compliance with the law and provides basic standards for ethical and legal behavior of its employees.',\n",
       " 'Berkshire and its consolidated subsidiaries employed approximately 360,000 people worldwide at the end of 2020.',\n",
       " 'Human capital and resources are an integral and essential component of Berkshire’s businesses.',\n",
       " 'Consistent with Berkshire’s decentralized management philosophy, Berkshire’s operating businesses establish specific policies and practices for their businesses concerning the attraction and retention of personnel within the organizations.',\n",
       " 'Such policies and practices generally address, among other things: maintaining a safe work environment for employees, customers and other business partners, offering competitive compensation to employees, including health insurance and retirement benefits and incentives, providing learning and career development opportunities, and hiring practices intended to identify qualified candidates and promote diversity and inclusion in the workforce.',\n",
       " 'Insurance and Reinsurance Businesses',\n",
       " 'Berkshire’s insurance and reinsurance business activities are conducted through numerous domestic and foreign-based insurance entities.',\n",
       " 'Berkshire’s insurance businesses provide insurance and reinsurance of property and casualty and life, accident and health risks worldwide.',\n",
       " 'Berkshire’s insurance businesses employed approximately 51,000 people at the end of 2020.',\n",
       " 'In direct or primary insurance activities, the insurer assumes the risk of loss from persons or organizations that are directly subject to the risks.',\n",
       " 'Such risks may relate to property, casualty (or liability), life, accident, health, financial or other perils that may arise from an insurable event.',\n",
       " 'In reinsurance activities, the reinsurer assumes defined portions of risks that other direct insurers or reinsurers assumed in their own insuring activities.',\n",
       " 'Reinsurance contracts are normally classified as treaty or facultative contracts.',\n",
       " 'Treaty reinsurance refers to reinsurance coverage for all or a portion of a specified group or class of risks ceded by the direct insurer, while facultative reinsurance involves coverage of specific individual underlying risks.',\n",
       " 'Reinsurance contracts are further classified as quota-share or excess.',\n",
       " 'Under quota-share (proportional or pro-rata) reinsurance, the reinsurer shares proportionally in the original premiums and losses of the direct insurer or reinsurer.',\n",
       " 'Excess (or non-proportional) reinsurance provides for the indemnification of the direct insurer or reinsurer for all or a portion of the loss in excess of an agreed upon amount or “retention.” Both quota-share and excess reinsurance contracts may provide for aggregate limits of indemnification.',\n",
       " 'Insurance and reinsurance are generally subject to regulatory oversight throughout the world.',\n",
       " 'Except for regulatory considerations, there are virtually no barriers to entry into the insurance and reinsurance industry.',\n",
       " 'Competitors may be domestic or foreign, as well as licensed or unlicensed.',\n",
       " 'The number of competitors within the industry is not known.',\n",
       " 'Insurers and reinsurers compete on the basis of reliability, financial strength and stability, financial ratings, underwriting consistency, service, business ethics, price, performance, capacity, policy terms and coverage conditions.']"
      ]
     },
     "execution_count": 14,
     "metadata": {},
     "output_type": "execute_result"
    }
   ],
   "source": [
    "allSentences = []\n",
    "for sentence in df[0]:\n",
    "    allSentences.append(sent_tokenize(sentence))\n",
    "allSentences = [y for x in allSentences for y in x]\n",
    "allSentences"
   ]
  },
  {
   "cell_type": "code",
   "execution_count": 4,
   "metadata": {},
   "outputs": [
    {
     "name": "stdout",
     "output_type": "stream",
     "text": [
      "--2021-03-08 10:50:24--  http://nlp.stanford.edu/data/glove.6B.zip\n",
      "Resolving nlp.stanford.edu (nlp.stanford.edu)... 171.64.67.140\n",
      "Connecting to nlp.stanford.edu (nlp.stanford.edu)|171.64.67.140|:80... connected.\n",
      "HTTP request sent, awaiting response... 302 Found\n",
      "Location: https://nlp.stanford.edu/data/glove.6B.zip [following]\n",
      "--2021-03-08 10:50:27--  https://nlp.stanford.edu/data/glove.6B.zip\n",
      "Connecting to nlp.stanford.edu (nlp.stanford.edu)|171.64.67.140|:443... connected.\n",
      "HTTP request sent, awaiting response... 301 Moved Permanently\n",
      "Location: http://downloads.cs.stanford.edu/nlp/data/glove.6B.zip [following]\n",
      "--2021-03-08 10:50:28--  http://downloads.cs.stanford.edu/nlp/data/glove.6B.zip\n",
      "Resolving downloads.cs.stanford.edu (downloads.cs.stanford.edu)... 171.64.64.22\n",
      "Connecting to downloads.cs.stanford.edu (downloads.cs.stanford.edu)|171.64.64.22|:80... connected.\n",
      "HTTP request sent, awaiting response... 200 OK\n",
      "Length: 862182613 (822M) [application/zip]\n",
      "Saving to: ‘glove.6B.zip’\n",
      "\n",
      "glove.6B.zip        100%[===================>] 822.24M  2.71MB/s    in 15m 30s \n",
      "\n",
      "2021-03-08 11:06:00 (905 KB/s) - ‘glove.6B.zip’ saved [862182613/862182613]\n",
      "\n",
      "Archive:  glove.6B.zip\n",
      "  inflating: glove.6B.50d.txt        \n",
      "  inflating: glove.6B.100d.txt       \n",
      "  inflating: glove.6B.200d.txt       \n",
      "  inflating: glove.6B.300d.txt       \n"
     ]
    }
   ],
   "source": [
    "!wget http://nlp.stanford.edu/data/glove.6B.zip\n",
    "!unzip glove*.zip"
   ]
  },
  {
   "cell_type": "code",
   "execution_count": 15,
   "metadata": {},
   "outputs": [],
   "source": [
    "word_embeddings = {}\n",
    "f = open('glove.6B.100d.txt', encoding='utf-8')\n",
    "for line in f:\n",
    "    values = line.split()\n",
    "    word = values[0]\n",
    "    coefs = np.asarray(values[1:], dtype='float32')\n",
    "    word_embeddings[word] = coefs\n",
    "f.close()"
   ]
  },
  {
   "cell_type": "code",
   "execution_count": 17,
   "metadata": {},
   "outputs": [],
   "source": [
    "clean_sentences = pd.Series(allSentences).str.replace(\"[^a-zA-Z]\", \" \")\n",
    "clean_sentences = [s.lower() for s in clean_sentences]"
   ]
  },
  {
   "cell_type": "code",
   "execution_count": 18,
   "metadata": {},
   "outputs": [],
   "source": [
    "stop_words = stopwords.words('english')\n",
    "def remove_stopwords(sen):\n",
    "    sen_new = \" \".join([i for i in sen if i not in stop_words])\n",
    "    return sen_new\n",
    "clean_sentences = [remove_stopwords(r.split()) for r in clean_sentences]"
   ]
  },
  {
   "cell_type": "code",
   "execution_count": 19,
   "metadata": {},
   "outputs": [],
   "source": [
    "word_embeddings = {}\n",
    "f = open('glove.6B.100d.txt', encoding='utf-8')\n",
    "for line in f:\n",
    "    values = line.split()\n",
    "    word = values[0]\n",
    "    coefs = np.asarray(values[1:], dtype='float32')\n",
    "    word_embeddings[word] = coefs\n",
    "f.close()"
   ]
  },
  {
   "cell_type": "code",
   "execution_count": 20,
   "metadata": {},
   "outputs": [],
   "source": [
    "sentence_vectors = []\n",
    "for i in clean_sentences:\n",
    "    if len(i) != 0:\n",
    "        v = sum([word_embeddings.get(w, np.zeros((100,))) for w in i.split()])/(len(i.split())+0.001)\n",
    "    else:\n",
    "        v = np.zeros((100,))\n",
    "    sentence_vectors.append(v)"
   ]
  },
  {
   "cell_type": "code",
   "execution_count": 21,
   "metadata": {},
   "outputs": [],
   "source": [
    "sim_mat = np.zeros([len(allSentences), len(allSentences)])"
   ]
  },
  {
   "cell_type": "code",
   "execution_count": 23,
   "metadata": {},
   "outputs": [],
   "source": [
    "for i in range(len(allSentences)):\n",
    "    for j in range(len(allSentences)):\n",
    "        if i != j:\n",
    "            sim_mat[i][j] = cosine_similarity(sentence_vectors[i].reshape(1,100), sentence_vectors[j].reshape(1,100))[0,0]"
   ]
  },
  {
   "cell_type": "code",
   "execution_count": 24,
   "metadata": {},
   "outputs": [],
   "source": [
    "nx_graph = nx.from_numpy_array(sim_mat)\n",
    "scores = nx.pagerank(nx_graph)"
   ]
  },
  {
   "cell_type": "code",
   "execution_count": 26,
   "metadata": {},
   "outputs": [],
   "source": [
    "ranked_sentences = sorted(((scores[i],s) for i,s in enumerate(allSentences)), reverse=True)"
   ]
  },
  {
   "cell_type": "code",
   "execution_count": 28,
   "metadata": {},
   "outputs": [
    {
     "name": "stdout",
     "output_type": "stream",
     "text": [
      "Berkshire’s insurance and reinsurance business activities are conducted through numerous domestic and foreign-based insurance entities.\n",
      "In direct or primary insurance activities, the insurer assumes the risk of loss from persons or organizations that are directly subject to the risks.\n",
      "The most important of these are insurance businesses conducted on both a primary basis and a reinsurance basis, a freight rail transportation business and a group of utility and energy generation and distribution businesses.\n",
      "Consistent with Berkshire’s decentralized management philosophy, Berkshire’s operating businesses establish specific policies and practices for their businesses concerning the attraction and retention of personnel within the organizations.\n",
      "Insurance and reinsurance are generally subject to regulatory oversight throughout the world.\n"
     ]
    }
   ],
   "source": [
    "for i in range(5):\n",
    "    print(ranked_sentences[i][1])"
   ]
  }
 ],
 "metadata": {
  "kernelspec": {
   "display_name": "Python 3",
   "language": "python",
   "name": "python3"
  },
  "language_info": {
   "codemirror_mode": {
    "name": "ipython",
    "version": 3
   },
   "file_extension": ".py",
   "mimetype": "text/x-python",
   "name": "python",
   "nbconvert_exporter": "python",
   "pygments_lexer": "ipython3",
   "version": "3.8.2"
  }
 },
 "nbformat": 4,
 "nbformat_minor": 4
}
