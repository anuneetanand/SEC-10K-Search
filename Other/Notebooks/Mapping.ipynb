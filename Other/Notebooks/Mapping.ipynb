{
 "cells": [
  {
   "cell_type": "code",
   "execution_count": 1,
   "metadata": {},
   "outputs": [],
   "source": [
    "import pandas as pd\n",
    "import numpy as np\n",
    "import pickle"
   ]
  },
  {
   "cell_type": "code",
   "execution_count": 2,
   "metadata": {},
   "outputs": [],
   "source": [
    "mapping = pd.read_csv(\"q1.csv\",delimiter=\",\",header=None)"
   ]
  },
  {
   "cell_type": "code",
   "execution_count": 3,
   "metadata": {},
   "outputs": [
    {
     "data": {
      "text/html": [
       "<div>\n",
       "<style scoped>\n",
       "    .dataframe tbody tr th:only-of-type {\n",
       "        vertical-align: middle;\n",
       "    }\n",
       "\n",
       "    .dataframe tbody tr th {\n",
       "        vertical-align: top;\n",
       "    }\n",
       "\n",
       "    .dataframe thead th {\n",
       "        text-align: right;\n",
       "    }\n",
       "</style>\n",
       "<table border=\"1\" class=\"dataframe\">\n",
       "  <thead>\n",
       "    <tr style=\"text-align: right;\">\n",
       "      <th></th>\n",
       "      <th>0</th>\n",
       "      <th>1</th>\n",
       "      <th>2</th>\n",
       "      <th>3</th>\n",
       "      <th>4</th>\n",
       "    </tr>\n",
       "  </thead>\n",
       "  <tbody>\n",
       "    <tr>\n",
       "      <th>0</th>\n",
       "      <td>100885</td>\n",
       "      <td>UNION PACIFIC CORP</td>\n",
       "      <td>10-K</td>\n",
       "      <td>2021-02-05</td>\n",
       "      <td>edgar/data/100885/0000100885-21-000068.txt</td>\n",
       "    </tr>\n",
       "    <tr>\n",
       "      <th>1</th>\n",
       "      <td>101829</td>\n",
       "      <td>RAYTHEON TECHNOLOGIES CORP</td>\n",
       "      <td>10-K</td>\n",
       "      <td>2021-02-08</td>\n",
       "      <td>edgar/data/101829/0000101829-21-000008.txt</td>\n",
       "    </tr>\n",
       "    <tr>\n",
       "      <th>2</th>\n",
       "      <td>1018724</td>\n",
       "      <td>AMAZON COM INC</td>\n",
       "      <td>10-K</td>\n",
       "      <td>2021-02-03</td>\n",
       "      <td>edgar/data/1018724/0001018724-21-000004.txt</td>\n",
       "    </tr>\n",
       "    <tr>\n",
       "      <th>3</th>\n",
       "      <td>1035267</td>\n",
       "      <td>INTUITIVE SURGICAL INC</td>\n",
       "      <td>10-K</td>\n",
       "      <td>2021-02-10</td>\n",
       "      <td>edgar/data/1035267/0001035267-21-000028.txt</td>\n",
       "    </tr>\n",
       "    <tr>\n",
       "      <th>4</th>\n",
       "      <td>1045810</td>\n",
       "      <td>NVIDIA CORP</td>\n",
       "      <td>10-K</td>\n",
       "      <td>2021-02-26</td>\n",
       "      <td>edgar/data/1045810/0001045810-21-000010.txt</td>\n",
       "    </tr>\n",
       "    <tr>\n",
       "      <th>...</th>\n",
       "      <td>...</td>\n",
       "      <td>...</td>\n",
       "      <td>...</td>\n",
       "      <td>...</td>\n",
       "      <td>...</td>\n",
       "    </tr>\n",
       "    <tr>\n",
       "      <th>489</th>\n",
       "      <td>1001039</td>\n",
       "      <td>Walt Disney Co</td>\n",
       "      <td>10-K</td>\n",
       "      <td>2018-11-21</td>\n",
       "      <td>edgar/data/1001039/0001001039-18-000187.txt</td>\n",
       "    </tr>\n",
       "    <tr>\n",
       "      <th>490</th>\n",
       "      <td>1001039</td>\n",
       "      <td>Walt Disney Co</td>\n",
       "      <td>10-K</td>\n",
       "      <td>2017-11-22</td>\n",
       "      <td>edgar/data/1001039/0001001039-17-000198.txt</td>\n",
       "    </tr>\n",
       "    <tr>\n",
       "      <th>491</th>\n",
       "      <td>1001039</td>\n",
       "      <td>Walt Disney Co</td>\n",
       "      <td>10-K</td>\n",
       "      <td>2016-11-23</td>\n",
       "      <td>edgar/data/1001039/0001001039-16-000516.txt</td>\n",
       "    </tr>\n",
       "    <tr>\n",
       "      <th>492</th>\n",
       "      <td>1649338</td>\n",
       "      <td>Broadcom Inc.</td>\n",
       "      <td>10-K</td>\n",
       "      <td>2016-12-23</td>\n",
       "      <td>edgar/data/1649338/0001649338-16-000151.txt</td>\n",
       "    </tr>\n",
       "    <tr>\n",
       "      <th>493</th>\n",
       "      <td>1649338</td>\n",
       "      <td>Broadcom Inc.</td>\n",
       "      <td>10-K</td>\n",
       "      <td>2017-12-21</td>\n",
       "      <td>edgar/data/1649338/0001649338-17-000158.txt</td>\n",
       "    </tr>\n",
       "  </tbody>\n",
       "</table>\n",
       "<p>494 rows × 5 columns</p>\n",
       "</div>"
      ],
      "text/plain": [
       "           0                           1     2           3  \\\n",
       "0     100885          UNION PACIFIC CORP  10-K  2021-02-05   \n",
       "1     101829  RAYTHEON TECHNOLOGIES CORP  10-K  2021-02-08   \n",
       "2    1018724              AMAZON COM INC  10-K  2021-02-03   \n",
       "3    1035267      INTUITIVE SURGICAL INC  10-K  2021-02-10   \n",
       "4    1045810                 NVIDIA CORP  10-K  2021-02-26   \n",
       "..       ...                         ...   ...         ...   \n",
       "489  1001039              Walt Disney Co  10-K  2018-11-21   \n",
       "490  1001039              Walt Disney Co  10-K  2017-11-22   \n",
       "491  1001039              Walt Disney Co  10-K  2016-11-23   \n",
       "492  1649338               Broadcom Inc.  10-K  2016-12-23   \n",
       "493  1649338               Broadcom Inc.  10-K  2017-12-21   \n",
       "\n",
       "                                               4  \n",
       "0     edgar/data/100885/0000100885-21-000068.txt  \n",
       "1     edgar/data/101829/0000101829-21-000008.txt  \n",
       "2    edgar/data/1018724/0001018724-21-000004.txt  \n",
       "3    edgar/data/1035267/0001035267-21-000028.txt  \n",
       "4    edgar/data/1045810/0001045810-21-000010.txt  \n",
       "..                                           ...  \n",
       "489  edgar/data/1001039/0001001039-18-000187.txt  \n",
       "490  edgar/data/1001039/0001001039-17-000198.txt  \n",
       "491  edgar/data/1001039/0001001039-16-000516.txt  \n",
       "492  edgar/data/1649338/0001649338-16-000151.txt  \n",
       "493  edgar/data/1649338/0001649338-17-000158.txt  \n",
       "\n",
       "[494 rows x 5 columns]"
      ]
     },
     "execution_count": 3,
     "metadata": {},
     "output_type": "execute_result"
    }
   ],
   "source": [
    "mapping"
   ]
  },
  {
   "cell_type": "code",
   "execution_count": 4,
   "metadata": {},
   "outputs": [
    {
     "name": "stdout",
     "output_type": "stream",
     "text": [
      "['3M CO' 'ABBOTT LABORATORIES' 'ADOBE INC.' 'ADVANCED MICRO DEVICES INC'\n",
      " 'ALTRIA GROUP, INC.' 'AMAZON COM INC' 'AMERICAN EXPRESS CO'\n",
      " 'AMERICAN TOWER CORP /MA/' 'AMGEN INC' 'APPLE INC' 'APPLE Inc'\n",
      " 'APPLIED MATERIALS INC /DE' 'AT&T INC.' 'AbbVie Inc.' 'Accenture plc'\n",
      " 'Alphabet Inc.' 'Anthem, Inc.' 'Apple Inc' 'BANK OF AMERICA CORP /DE/'\n",
      " 'BERKSHIRE HATHAWAY INC' 'BOEING CO' 'BRISTOL MYERS SQUIBB CO'\n",
      " 'BlackRock Inc.' 'Booking Holdings Inc.' 'Broadcom Inc.'\n",
      " 'CATERPILLAR INC' 'CHARTER COMMUNICATIONS, INC. /MO/' 'CHEVRON CORP'\n",
      " 'CISCO SYSTEMS, INC.' 'CITIGROUP INC' 'CME GROUP INC.' 'COCA COLA CO'\n",
      " 'COMCAST CORP' 'CONOCOPHILLIPS' 'COSTCO WHOLESALE CORP /NEW'\n",
      " 'CVS HEALTH Corp' 'Cigna Corp' 'DANAHER CORP /DE/' 'DEERE & CO'\n",
      " 'ESTEE LAUDER COMPANIES INC' 'EXXON MOBIL CORP' 'FISERV INC'\n",
      " 'Facebook Inc' 'Fidelity National Information Services, Inc.'\n",
      " 'GENERAL ELECTRIC CO' 'GILEAD SCIENCES INC' 'GOLDMAN SACHS GROUP INC'\n",
      " 'General Motors Co' 'HOME DEPOT INC' 'HONEYWELL INTERNATIONAL INC'\n",
      " 'INTEL CORP' 'INTERNATIONAL BUSINESS MACHINES CORP' 'INTUIT INC'\n",
      " 'INTUITIVE SURGICAL INC' 'JOHNSON & JOHNSON' 'JPMORGAN CHASE & CO'\n",
      " 'LILLY ELI & CO' 'LILLY ELI & Co' 'LINDE PLC' 'LOCKHEED MARTIN CORP'\n",
      " 'LOWES COMPANIES INC' 'MCDONALDS CORP' 'MICRON TECHNOLOGY INC'\n",
      " 'MICROSOFT CORP' 'MORGAN STANLEY' 'Mastercard Inc' 'Medtronic plc'\n",
      " 'Merck & Co., Inc.' 'Mondelez International, Inc.' 'NETFLIX INC'\n",
      " 'NEWMONT Corp /DE/' 'NEXTERA ENERGY INC' 'NIKE INC' 'NVIDIA CORP'\n",
      " 'ORACLE CORP' 'PEPSICO INC' 'PFIZER INC' 'PROCTER & GAMBLE Co'\n",
      " 'PayPal Holdings, Inc.' 'Philip Morris International Inc.'\n",
      " 'QUALCOMM INC/DE' 'RAYTHEON TECHNOLOGIES CORP' 'S&P Global Inc.'\n",
      " 'SALESFORCE COM INC' 'SCHWAB CHARLES CORP' 'STARBUCKS CORP'\n",
      " 'ServiceNow, Inc.' 'T-Mobile US, Inc.' 'TARGET CORP'\n",
      " 'TEXAS INSTRUMENTS INC' 'THERMO FISHER SCIENTIFIC INC.'\n",
      " 'TRUIST FINANCIAL CORP' 'Tesla, Inc.' 'UNION PACIFIC CORP'\n",
      " 'UNITED PARCEL SERVICE INC' 'UNITEDHEALTH GROUP INC' 'US BANCORP \\\\DE\\\\'\n",
      " 'VERIZON COMMUNICATIONS INC' 'VISA INC.' 'WELLS FARGO & COMPANY/MN'\n",
      " 'Walmart Inc.' 'Walt Disney Co']\n"
     ]
    },
    {
     "data": {
      "text/plain": [
       "102"
      ]
     },
     "execution_count": 4,
     "metadata": {},
     "output_type": "execute_result"
    }
   ],
   "source": [
    "print(np.sort(np.unique(mapping[1])))\n",
    "len(np.unique(mapping[1]))"
   ]
  },
  {
   "cell_type": "code",
   "execution_count": 5,
   "metadata": {},
   "outputs": [],
   "source": [
    "index = {}\n",
    "companies = mapping[1].to_numpy()\n",
    "for i in range(len(companies)):\n",
    "    index[i] = companies[i]"
   ]
  },
  {
   "cell_type": "code",
   "execution_count": 6,
   "metadata": {},
   "outputs": [
    {
     "name": "stdout",
     "output_type": "stream",
     "text": [
      "{0: 'UNION PACIFIC CORP', 1: 'RAYTHEON TECHNOLOGIES CORP', 2: 'AMAZON COM INC', 3: 'INTUITIVE SURGICAL INC', 4: 'NVIDIA CORP', 5: 'AMERICAN TOWER CORP /MA/', 6: 'NETFLIX INC', 7: 'BERKSHIRE HATHAWAY INC', 8: 'Booking Holdings Inc.', 9: 'UNITED PARCEL SERVICE INC', 10: 'CHARTER COMMUNICATIONS, INC. /MO/', 11: 'Mondelez International, Inc.', 12: 'Fidelity National Information Services, Inc.', 13: 'Mastercard Inc', 14: 'Anthem, Inc.', 15: 'CME GROUP INC.', 16: 'CONOCOPHILLIPS', 17: 'NEWMONT Corp /DE/', 18: 'COMCAST CORP', 19: 'T-Mobile US, Inc.', 20: 'BOEING CO', 21: 'Tesla, Inc.', 22: 'Facebook Inc', 23: 'BlackRock Inc.', 24: 'ServiceNow, Inc.', 25: 'Philip Morris International Inc.', 26: 'BRISTOL MYERS SQUIBB CO', 27: 'General Motors Co', 28: 'AbbVie Inc.', 29: 'PayPal Holdings, Inc.', 30: 'Alphabet Inc.', 31: 'LINDE PLC', 32: 'Cigna Corp', 33: 'ABBOTT LABORATORIES', 34: 'CATERPILLAR INC', 35: 'JPMORGAN CHASE & CO', 36: 'JOHNSON & JOHNSON', 37: 'COCA COLA CO', 38: 'ADVANCED MICRO DEVICES INC', 39: 'Merck & Co., Inc.', 40: 'DANAHER CORP /DE/', 41: 'SCHWAB CHARLES CORP', 42: 'AMGEN INC', 43: 'EXXON MOBIL CORP', 44: 'US BANCORP \\\\DE\\\\', 45: 'GENERAL ELECTRIC CO', 46: 'AMERICAN EXPRESS CO', 47: 'INTEL CORP', 48: 'INTERNATIONAL BUSINESS MACHINES CORP', 49: 'LILLY ELI & Co', 50: 'MCDONALDS CORP', 51: 'S&P Global Inc.', 52: 'CVS HEALTH Corp', 53: '3M CO', 54: 'BANK OF AMERICA CORP /DE/', 55: 'WELLS FARGO & COMPANY/MN', 56: 'UNITEDHEALTH GROUP INC', 57: 'VERIZON COMMUNICATIONS INC', 58: 'AT&T INC.', 59: 'NEXTERA ENERGY INC', 60: 'ALTRIA GROUP, INC.', 61: 'HONEYWELL INTERNATIONAL INC', 62: 'PEPSICO INC', 63: 'PFIZER INC', 64: 'ADOBE INC.', 65: 'FISERV INC', 66: 'CITIGROUP INC', 67: 'GILEAD SCIENCES INC', 68: 'GOLDMAN SACHS GROUP INC', 69: 'MORGAN STANLEY', 70: 'TRUIST FINANCIAL CORP', 71: 'CHEVRON CORP', 72: 'LOCKHEED MARTIN CORP', 73: 'TEXAS INSTRUMENTS INC', 74: 'THERMO FISHER SCIENTIFIC INC.', 75: 'UNION PACIFIC CORP', 76: 'RAYTHEON TECHNOLOGIES CORP', 77: 'AMAZON COM INC', 78: 'INTUITIVE SURGICAL INC', 79: 'Walmart Inc.', 80: 'NVIDIA CORP', 81: 'AMERICAN TOWER CORP /MA/', 82: 'NETFLIX INC', 83: 'BERKSHIRE HATHAWAY INC', 84: 'Booking Holdings Inc.', 85: 'UNITED PARCEL SERVICE INC', 86: 'CHARTER COMMUNICATIONS, INC. /MO/', 87: 'Mondelez International, Inc.', 88: 'SALESFORCE COM INC', 89: 'Fidelity National Information Services, Inc.', 90: 'Mastercard Inc', 91: 'Anthem, Inc.', 92: 'CME GROUP INC.', 93: 'CONOCOPHILLIPS', 94: 'NEWMONT Corp /DE/', 95: 'COMCAST CORP', 96: 'T-Mobile US, Inc.', 97: 'BOEING CO', 98: 'Tesla, Inc.', 99: 'Facebook Inc', 100: 'BlackRock Inc.', 101: 'ServiceNow, Inc.', 102: 'Philip Morris International Inc.', 103: 'BRISTOL MYERS SQUIBB CO', 104: 'General Motors Co', 105: 'AbbVie Inc.', 106: 'PayPal Holdings, Inc.', 107: 'Alphabet Inc.', 108: 'LINDE PLC', 109: 'Cigna Corp', 110: 'ABBOTT LABORATORIES', 111: 'CATERPILLAR INC', 112: 'JPMORGAN CHASE & CO', 113: 'JOHNSON & JOHNSON', 114: 'COCA COLA CO', 115: 'ADVANCED MICRO DEVICES INC', 116: 'TARGET CORP', 117: 'Merck & Co., Inc.', 118: 'DANAHER CORP /DE/', 119: 'SCHWAB CHARLES CORP', 120: 'AMGEN INC', 121: 'EXXON MOBIL CORP', 122: 'HOME DEPOT INC', 123: 'US BANCORP \\\\DE\\\\', 124: 'GENERAL ELECTRIC CO', 125: 'AMERICAN EXPRESS CO', 126: 'INTEL CORP', 127: 'INTERNATIONAL BUSINESS MACHINES CORP', 128: 'LILLY ELI & Co', 129: 'LOWES COMPANIES INC', 130: 'MCDONALDS CORP', 131: 'S&P Global Inc.', 132: 'CVS HEALTH Corp', 133: '3M CO', 134: 'BANK OF AMERICA CORP /DE/', 135: 'WELLS FARGO & COMPANY/MN', 136: 'UNITEDHEALTH GROUP INC', 137: 'VERIZON COMMUNICATIONS INC', 138: 'AT&T INC.', 139: 'NEXTERA ENERGY INC', 140: 'ALTRIA GROUP, INC.', 141: 'HONEYWELL INTERNATIONAL INC', 142: 'PEPSICO INC', 143: 'PFIZER INC', 144: 'ADOBE INC.', 145: 'FISERV INC', 146: 'CITIGROUP INC', 147: 'GILEAD SCIENCES INC', 148: 'GOLDMAN SACHS GROUP INC', 149: 'MORGAN STANLEY', 150: 'TRUIST FINANCIAL CORP', 151: 'CHEVRON CORP', 152: 'LOCKHEED MARTIN CORP', 153: 'TEXAS INSTRUMENTS INC', 154: 'THERMO FISHER SCIENTIFIC INC.', 155: 'UNION PACIFIC CORP', 156: 'RAYTHEON TECHNOLOGIES CORP', 157: 'AMAZON COM INC', 158: 'INTUITIVE SURGICAL INC', 159: 'Walmart Inc.', 160: 'NVIDIA CORP', 161: 'AMERICAN TOWER CORP /MA/', 162: 'NETFLIX INC', 163: 'BERKSHIRE HATHAWAY INC', 164: 'Booking Holdings Inc.', 165: 'UNITED PARCEL SERVICE INC', 166: 'CHARTER COMMUNICATIONS, INC. /MO/', 167: 'Mondelez International, Inc.', 168: 'SALESFORCE COM INC', 169: 'Fidelity National Information Services, Inc.', 170: 'Mastercard Inc', 171: 'Anthem, Inc.', 172: 'CME GROUP INC.', 173: 'CONOCOPHILLIPS', 174: 'NEWMONT Corp /DE/', 175: 'COMCAST CORP', 176: 'T-Mobile US, Inc.', 177: 'BOEING CO', 178: 'Tesla, Inc.', 179: 'Facebook Inc', 180: 'BlackRock Inc.', 181: 'ServiceNow, Inc.', 182: 'Philip Morris International Inc.', 183: 'BRISTOL MYERS SQUIBB CO', 184: 'General Motors Co', 185: 'AbbVie Inc.', 186: 'PayPal Holdings, Inc.', 187: 'Alphabet Inc.', 188: 'LINDE PLC', 189: 'Cigna Corp', 190: 'ABBOTT LABORATORIES', 191: 'CATERPILLAR INC', 192: 'JPMORGAN CHASE & CO', 193: 'JOHNSON & JOHNSON', 194: 'COCA COLA CO', 195: 'ADVANCED MICRO DEVICES INC', 196: 'TARGET CORP', 197: 'Merck & Co., Inc.', 198: 'DANAHER CORP /DE/', 199: 'SCHWAB CHARLES CORP', 200: 'AMGEN INC', 201: 'EXXON MOBIL CORP', 202: 'HOME DEPOT INC', 203: 'US BANCORP \\\\DE\\\\', 204: 'GENERAL ELECTRIC CO', 205: 'AMERICAN EXPRESS CO', 206: 'INTEL CORP', 207: 'INTERNATIONAL BUSINESS MACHINES CORP', 208: 'LILLY ELI & CO', 209: 'MCDONALDS CORP', 210: 'S&P Global Inc.', 211: 'CVS HEALTH Corp', 212: '3M CO', 213: 'BANK OF AMERICA CORP /DE/', 214: 'WELLS FARGO & COMPANY/MN', 215: 'UNITEDHEALTH GROUP INC', 216: 'VERIZON COMMUNICATIONS INC', 217: 'AT&T INC.', 218: 'NEXTERA ENERGY INC', 219: 'ALTRIA GROUP, INC.', 220: 'HONEYWELL INTERNATIONAL INC', 221: 'PEPSICO INC', 222: 'PFIZER INC', 223: 'ADOBE INC.', 224: 'FISERV INC', 225: 'CITIGROUP INC', 226: 'GILEAD SCIENCES INC', 227: 'GOLDMAN SACHS GROUP INC', 228: 'MORGAN STANLEY', 229: 'TRUIST FINANCIAL CORP', 230: 'CHEVRON CORP', 231: 'LOCKHEED MARTIN CORP', 232: 'TEXAS INSTRUMENTS INC', 233: 'THERMO FISHER SCIENTIFIC INC.', 234: 'UNION PACIFIC CORP', 235: 'RAYTHEON TECHNOLOGIES CORP', 236: 'AMAZON COM INC', 237: 'INTUITIVE SURGICAL INC', 238: 'Walmart Inc.', 239: 'NVIDIA CORP', 240: 'AMERICAN TOWER CORP /MA/', 241: 'NETFLIX INC', 242: 'BERKSHIRE HATHAWAY INC', 243: 'Booking Holdings Inc.', 244: 'UNITED PARCEL SERVICE INC', 245: 'CHARTER COMMUNICATIONS, INC. /MO/', 246: 'Mondelez International, Inc.', 247: 'SALESFORCE COM INC', 248: 'Fidelity National Information Services, Inc.', 249: 'Mastercard Inc', 250: 'Anthem, Inc.', 251: 'CME GROUP INC.', 252: 'CONOCOPHILLIPS', 253: 'NEWMONT Corp /DE/', 254: 'COMCAST CORP', 255: 'T-Mobile US, Inc.', 256: 'BOEING CO', 257: 'Tesla, Inc.', 258: 'Facebook Inc', 259: 'BlackRock Inc.', 260: 'ServiceNow, Inc.', 261: 'Philip Morris International Inc.', 262: 'BRISTOL MYERS SQUIBB CO', 263: 'General Motors Co', 264: 'AbbVie Inc.', 265: 'PayPal Holdings, Inc.', 266: 'Alphabet Inc.', 267: 'LINDE PLC', 268: 'ABBOTT LABORATORIES', 269: 'CATERPILLAR INC', 270: 'JPMORGAN CHASE & CO', 271: 'JOHNSON & JOHNSON', 272: 'COCA COLA CO', 273: 'ADVANCED MICRO DEVICES INC', 274: 'TARGET CORP', 275: 'Merck & Co., Inc.', 276: 'DANAHER CORP /DE/', 277: 'SCHWAB CHARLES CORP', 278: 'AMGEN INC', 279: 'EXXON MOBIL CORP', 280: 'HOME DEPOT INC', 281: 'US BANCORP \\\\DE\\\\', 282: 'GENERAL ELECTRIC CO', 283: 'AMERICAN EXPRESS CO', 284: 'INTEL CORP', 285: 'INTERNATIONAL BUSINESS MACHINES CORP', 286: 'LILLY ELI & CO', 287: 'MCDONALDS CORP', 288: 'S&P Global Inc.', 289: 'CVS HEALTH Corp', 290: '3M CO', 291: 'BANK OF AMERICA CORP /DE/', 292: 'WELLS FARGO & COMPANY/MN', 293: 'UNITEDHEALTH GROUP INC', 294: 'VERIZON COMMUNICATIONS INC', 295: 'AT&T INC.', 296: 'NEXTERA ENERGY INC', 297: 'ALTRIA GROUP, INC.', 298: 'HONEYWELL INTERNATIONAL INC', 299: 'PEPSICO INC', 300: 'PFIZER INC', 301: 'ADOBE INC.', 302: 'FISERV INC', 303: 'CITIGROUP INC', 304: 'GILEAD SCIENCES INC', 305: 'GOLDMAN SACHS GROUP INC', 306: 'MORGAN STANLEY', 307: 'TRUIST FINANCIAL CORP', 308: 'CHEVRON CORP', 309: 'LOCKHEED MARTIN CORP', 310: 'TEXAS INSTRUMENTS INC', 311: 'THERMO FISHER SCIENTIFIC INC.', 312: 'UNION PACIFIC CORP', 313: 'RAYTHEON TECHNOLOGIES CORP', 314: 'AMAZON COM INC', 315: 'INTUITIVE SURGICAL INC', 316: 'Walmart Inc.', 317: 'NVIDIA CORP', 318: 'AMERICAN TOWER CORP /MA/', 319: 'NETFLIX INC', 320: 'BERKSHIRE HATHAWAY INC', 321: 'Booking Holdings Inc.', 322: 'UNITED PARCEL SERVICE INC', 323: 'CHARTER COMMUNICATIONS, INC. /MO/', 324: 'Mondelez International, Inc.', 325: 'SALESFORCE COM INC', 326: 'Fidelity National Information Services, Inc.', 327: 'Mastercard Inc', 328: 'Anthem, Inc.', 329: 'CME GROUP INC.', 330: 'CONOCOPHILLIPS', 331: 'NEWMONT Corp /DE/', 332: 'COMCAST CORP', 333: 'T-Mobile US, Inc.', 334: 'BOEING CO', 335: 'Tesla, Inc.', 336: 'Facebook Inc', 337: 'BlackRock Inc.', 338: 'ServiceNow, Inc.', 339: 'Philip Morris International Inc.', 340: 'BRISTOL MYERS SQUIBB CO', 341: 'General Motors Co', 342: 'AbbVie Inc.', 343: 'PayPal Holdings, Inc.', 344: 'Alphabet Inc.', 345: 'ABBOTT LABORATORIES', 346: 'CATERPILLAR INC', 347: 'JPMORGAN CHASE & CO', 348: 'JOHNSON & JOHNSON', 349: 'COCA COLA CO', 350: 'ADVANCED MICRO DEVICES INC', 351: 'TARGET CORP', 352: 'Merck & Co., Inc.', 353: 'DANAHER CORP /DE/', 354: 'SCHWAB CHARLES CORP', 355: 'AMGEN INC', 356: 'EXXON MOBIL CORP', 357: 'HOME DEPOT INC', 358: 'US BANCORP \\\\DE\\\\', 359: 'GENERAL ELECTRIC CO', 360: 'AMERICAN EXPRESS CO', 361: 'INTEL CORP', 362: 'INTERNATIONAL BUSINESS MACHINES CORP', 363: 'LILLY ELI & CO', 364: 'MCDONALDS CORP', 365: 'S&P Global Inc.', 366: 'CVS HEALTH Corp', 367: '3M CO', 368: 'BANK OF AMERICA CORP /DE/', 369: 'WELLS FARGO & COMPANY/MN', 370: 'UNITEDHEALTH GROUP INC', 371: 'VERIZON COMMUNICATIONS INC', 372: 'AT&T INC.', 373: 'NEXTERA ENERGY INC', 374: 'ALTRIA GROUP, INC.', 375: 'HONEYWELL INTERNATIONAL INC', 376: 'PEPSICO INC', 377: 'PFIZER INC', 378: 'ADOBE INC.', 379: 'FISERV INC', 380: 'CITIGROUP INC', 381: 'GILEAD SCIENCES INC', 382: 'GOLDMAN SACHS GROUP INC', 383: 'MORGAN STANLEY', 384: 'TRUIST FINANCIAL CORP', 385: 'CHEVRON CORP', 386: 'LOCKHEED MARTIN CORP', 387: 'TEXAS INSTRUMENTS INC', 388: 'THERMO FISHER SCIENTIFIC INC.', 389: 'LOWES COMPANIES INC', 390: 'LOWES COMPANIES INC', 391: 'LOWES COMPANIES INC', 392: 'TARGET CORP', 393: 'HOME DEPOT INC', 394: 'LOWES COMPANIES INC', 395: 'Walmart Inc.', 396: 'SALESFORCE COM INC', 397: 'Cigna Corp', 398: 'Cigna Corp', 399: 'Medtronic plc', 400: 'ORACLE CORP', 401: 'ORACLE CORP', 402: 'Medtronic plc', 403: 'ORACLE CORP', 404: 'Medtronic plc', 405: 'ORACLE CORP', 406: 'Medtronic plc', 407: 'ORACLE CORP', 408: 'Medtronic plc', 409: 'NIKE INC', 410: 'NIKE INC', 411: 'NIKE INC', 412: 'NIKE INC', 413: 'NIKE INC', 414: 'MICROSOFT CORP', 415: 'MICROSOFT CORP', 416: 'MICROSOFT CORP', 417: 'MICROSOFT CORP', 418: 'MICROSOFT CORP', 419: 'PROCTER & GAMBLE Co', 420: 'PROCTER & GAMBLE Co', 421: 'PROCTER & GAMBLE Co', 422: 'PROCTER & GAMBLE Co', 423: 'ESTEE LAUDER COMPANIES INC', 424: 'ESTEE LAUDER COMPANIES INC', 425: 'ESTEE LAUDER COMPANIES INC', 426: 'ESTEE LAUDER COMPANIES INC', 427: 'ESTEE LAUDER COMPANIES INC', 428: 'INTUIT INC', 429: 'INTUIT INC', 430: 'INTUIT INC', 431: 'INTUIT INC', 432: 'INTUIT INC', 433: 'CISCO SYSTEMS, INC.', 434: 'CISCO SYSTEMS, INC.', 435: 'CISCO SYSTEMS, INC.', 436: 'CISCO SYSTEMS, INC.', 437: 'CISCO SYSTEMS, INC.', 438: 'PROCTER & GAMBLE Co', 439: 'VISA INC.', 440: 'Accenture plc', 441: 'DEERE & CO', 442: 'APPLE Inc', 443: 'APPLIED MATERIALS INC /DE', 444: 'MICRON TECHNOLOGY INC', 445: 'QUALCOMM INC/DE', 446: 'STARBUCKS CORP', 447: 'COSTCO WHOLESALE CORP /NEW', 448: 'VISA INC.', 449: 'Accenture plc', 450: 'DEERE & CO', 451: 'APPLE Inc', 452: 'APPLIED MATERIALS INC /DE', 453: 'MICRON TECHNOLOGY INC', 454: 'QUALCOMM INC/DE', 455: 'STARBUCKS CORP', 456: 'COSTCO WHOLESALE CORP /NEW', 457: 'VISA INC.', 458: 'Accenture plc', 459: 'Broadcom Inc.', 460: 'DEERE & CO', 461: 'APPLE INC', 462: 'APPLIED MATERIALS INC /DE', 463: 'MICRON TECHNOLOGY INC', 464: 'QUALCOMM INC/DE', 465: 'STARBUCKS CORP', 466: 'COSTCO WHOLESALE CORP /NEW', 467: 'VISA INC.', 468: 'Accenture plc', 469: 'Broadcom Inc.', 470: 'Walt Disney Co', 471: 'DEERE & CO', 472: 'Apple Inc', 473: 'APPLIED MATERIALS INC /DE', 474: 'MICRON TECHNOLOGY INC', 475: 'QUALCOMM INC/DE', 476: 'STARBUCKS CORP', 477: 'COSTCO WHOLESALE CORP /NEW', 478: 'VISA INC.', 479: 'Accenture plc', 480: 'Broadcom Inc.', 481: 'Walt Disney Co', 482: 'DEERE & CO', 483: 'Apple Inc', 484: 'APPLIED MATERIALS INC /DE', 485: 'MICRON TECHNOLOGY INC', 486: 'QUALCOMM INC/DE', 487: 'STARBUCKS CORP', 488: 'COSTCO WHOLESALE CORP /NEW', 489: 'Walt Disney Co', 490: 'Walt Disney Co', 491: 'Walt Disney Co', 492: 'Broadcom Inc.', 493: 'Broadcom Inc.'}\n"
     ]
    }
   ],
   "source": [
    "print(index)"
   ]
  },
  {
   "cell_type": "code",
   "execution_count": 7,
   "metadata": {},
   "outputs": [
    {
     "data": {
      "text/plain": [
       "102"
      ]
     },
     "execution_count": 7,
     "metadata": {},
     "output_type": "execute_result"
    }
   ],
   "source": [
    "uni = np.unique(companies)\n",
    "len(uni)"
   ]
  },
  {
   "cell_type": "code",
   "execution_count": 8,
   "metadata": {},
   "outputs": [],
   "source": [
    "master_index = {}\n",
    "master_data = mapping.to_numpy()\n",
    "np.shape(master_data)\n",
    "for details in master_data:\n",
    "    if details[1] not in master_index.keys():\n",
    "        master_index[details[1]] = {}\n",
    "    master_index[details[1]][details[3]] = details[4]\n",
    "for keys in master_index.keys():\n",
    "    master_index[keys] = sorted(master_index[keys].items())"
   ]
  },
  {
   "cell_type": "code",
   "execution_count": 9,
   "metadata": {},
   "outputs": [
    {
     "name": "stdout",
     "output_type": "stream",
     "text": [
      "[('2016-07-28', 'edgar/data/789019/0001193125-16-662209.txt'), ('2017-08-02', 'edgar/data/789019/0001564590-17-014900.txt'), ('2018-08-03', 'edgar/data/789019/0001564590-18-019062.txt'), ('2019-08-01', 'edgar/data/789019/0001564590-19-027952.txt'), ('2020-07-30', 'edgar/data/789019/0001564590-20-034944.txt')]\n"
     ]
    }
   ],
   "source": [
    "print((master_index['MICROSOFT CORP']))"
   ]
  },
  {
   "cell_type": "code",
   "execution_count": 10,
   "metadata": {},
   "outputs": [],
   "source": [
    "pickle.dump(master_index,open('master_index.pkl','wb'))\n",
    "pickle.dump(index,open('company_index.pkl','wb'))"
   ]
  },
  {
   "cell_type": "code",
   "execution_count": 11,
   "metadata": {},
   "outputs": [
    {
     "name": "stdout",
     "output_type": "stream",
     "text": [
      "{'UNION PACIFIC CORP': [('2017-02-03', 'edgar/data/100885/0000100885-17-000056.txt'), ('2018-02-09', 'edgar/data/100885/0000100885-18-000048.txt'), ('2019-02-08', 'edgar/data/100885/0000100885-19-000060.txt'), ('2020-02-07', 'edgar/data/100885/0000100885-20-000065.txt'), ('2021-02-05', 'edgar/data/100885/0000100885-21-000068.txt')], 'RAYTHEON TECHNOLOGIES CORP': [('2017-02-09', 'edgar/data/101829/0000101829-17-000007.txt'), ('2018-02-09', 'edgar/data/101829/0000101829-18-000005.txt'), ('2019-02-07', 'edgar/data/101829/0000101829-19-000007.txt'), ('2020-02-06', 'edgar/data/101829/0000101829-20-000013.txt'), ('2021-02-08', 'edgar/data/101829/0000101829-21-000008.txt')], 'AMAZON COM INC': [('2017-02-10', 'edgar/data/1018724/0001018724-17-000011.txt'), ('2018-02-02', 'edgar/data/1018724/0001018724-18-000005.txt'), ('2019-02-01', 'edgar/data/1018724/0001018724-19-000004.txt'), ('2020-01-31', 'edgar/data/1018724/0001018724-20-000004.txt'), ('2021-02-03', 'edgar/data/1018724/0001018724-21-000004.txt')], 'INTUITIVE SURGICAL INC': [('2017-02-06', 'edgar/data/1035267/0001035267-17-000021.txt'), ('2018-02-02', 'edgar/data/1035267/0001035267-18-000013.txt'), ('2019-02-04', 'edgar/data/1035267/0001035267-19-000012.txt'), ('2020-02-07', 'edgar/data/1035267/0001035267-20-000032.txt'), ('2021-02-10', 'edgar/data/1035267/0001035267-21-000028.txt')], 'NVIDIA CORP': [('2017-03-01', 'edgar/data/1045810/0001045810-17-000027.txt'), ('2018-02-28', 'edgar/data/1045810/0001045810-18-000010.txt'), ('2019-02-21', 'edgar/data/1045810/0001045810-19-000023.txt'), ('2020-02-20', 'edgar/data/1045810/0001045810-20-000010.txt'), ('2021-02-26', 'edgar/data/1045810/0001045810-21-000010.txt')], 'AMERICAN TOWER CORP /MA/': [('2017-02-27', 'edgar/data/1053507/0001053507-17-000009.txt'), ('2018-02-28', 'edgar/data/1053507/0001053507-18-000006.txt'), ('2019-02-27', 'edgar/data/1053507/0001053507-19-000012.txt'), ('2020-02-25', 'edgar/data/1053507/0001053507-20-000028.txt'), ('2021-02-25', 'edgar/data/1053507/0001053507-21-000026.txt')], 'NETFLIX INC': [('2017-01-27', 'edgar/data/1065280/0001628280-17-000496.txt'), ('2018-01-29', 'edgar/data/1065280/0001065280-18-000069.txt'), ('2019-01-29', 'edgar/data/1065280/0001065280-19-000043.txt'), ('2020-01-29', 'edgar/data/1065280/0001065280-20-000040.txt'), ('2021-01-28', 'edgar/data/1065280/0001065280-21-000040.txt')], 'BERKSHIRE HATHAWAY INC': [('2017-02-27', 'edgar/data/1067983/0001193125-17-056969.txt'), ('2018-02-26', 'edgar/data/1067983/0001193125-18-057033.txt'), ('2019-02-25', 'edgar/data/1067983/0001193125-19-048926.txt'), ('2020-02-24', 'edgar/data/1067983/0001564590-20-005874.txt'), ('2021-03-01', 'edgar/data/1067983/0001564590-21-009611.txt')], 'Booking Holdings Inc.': [('2017-02-27', 'edgar/data/1075531/0001075531-17-000009.txt'), ('2018-02-27', 'edgar/data/1075531/0001075531-18-000015.txt'), ('2019-02-27', 'edgar/data/1075531/0001075531-19-000009.txt'), ('2020-02-26', 'edgar/data/1075531/0001075531-20-000011.txt'), ('2021-02-24', 'edgar/data/1075531/0001075531-21-000019.txt')], 'UNITED PARCEL SERVICE INC': [('2017-02-21', 'edgar/data/1090727/0001090727-17-000011.txt'), ('2018-02-21', 'edgar/data/1090727/0001090727-18-000009.txt'), ('2019-02-21', 'edgar/data/1090727/0001090727-19-000006.txt'), ('2020-02-20', 'edgar/data/1090727/0001090727-20-000005.txt'), ('2021-02-22', 'edgar/data/1090727/0001090727-21-000013.txt')], 'CHARTER COMMUNICATIONS, INC. /MO/': [('2017-02-16', 'edgar/data/1091667/0001091667-17-000030.txt'), ('2018-02-02', 'edgar/data/1091667/0001091667-18-000025.txt'), ('2019-01-31', 'edgar/data/1091667/0001091667-19-000029.txt'), ('2020-01-31', 'edgar/data/1091667/0001091667-20-000024.txt'), ('2021-01-29', 'edgar/data/1091667/0001091667-21-000022.txt')], 'Mondelez International, Inc.': [('2017-02-24', 'edgar/data/1103982/0001193125-17-055858.txt'), ('2018-02-09', 'edgar/data/1103982/0001193125-18-037332.txt'), ('2019-02-08', 'edgar/data/1103982/0001103982-19-000005.txt'), ('2020-02-07', 'edgar/data/1103982/0001103982-20-000003.txt'), ('2021-02-05', 'edgar/data/1103982/0001103982-21-000004.txt')], 'Fidelity National Information Services, Inc.': [('2017-02-23', 'edgar/data/1136893/0001136893-17-000008.txt'), ('2018-02-22', 'edgar/data/1136893/0001136893-18-000011.txt'), ('2019-02-21', 'edgar/data/1136893/0001136893-19-000008.txt'), ('2020-02-20', 'edgar/data/1136893/0001136893-20-000032.txt'), ('2021-02-18', 'edgar/data/1136893/0001136893-21-000025.txt')], 'Mastercard Inc': [('2017-02-15', 'edgar/data/1141391/0001141391-17-000014.txt'), ('2018-02-14', 'edgar/data/1141391/0001141391-18-000009.txt'), ('2019-02-13', 'edgar/data/1141391/0001141391-19-000013.txt'), ('2020-02-14', 'edgar/data/1141391/0001141391-20-000032.txt'), ('2021-02-12', 'edgar/data/1141391/0001141391-21-000018.txt')], 'Anthem, Inc.': [('2017-02-22', 'edgar/data/1156039/0001156039-17-000002.txt'), ('2018-02-21', 'edgar/data/1156039/0001156039-18-000003.txt'), ('2019-02-20', 'edgar/data/1156039/0001156039-19-000004.txt'), ('2020-02-19', 'edgar/data/1156039/0001156039-20-000003.txt'), ('2021-02-18', 'edgar/data/1156039/0001156039-21-000012.txt')], 'CME GROUP INC.': [('2017-02-27', 'edgar/data/1156375/0001156375-17-000016.txt'), ('2018-03-01', 'edgar/data/1156375/0001156375-18-000026.txt'), ('2019-02-28', 'edgar/data/1156375/0001156375-19-000010.txt'), ('2020-02-28', 'edgar/data/1156375/0001156375-20-000013.txt'), ('2021-02-26', 'edgar/data/1156375/0001156375-21-000020.txt')], 'CONOCOPHILLIPS': [('2017-02-21', 'edgar/data/1163165/0001193125-17-050077.txt'), ('2018-02-20', 'edgar/data/1163165/0001193125-18-049729.txt'), ('2019-02-19', 'edgar/data/1163165/0001193125-19-043841.txt'), ('2020-02-18', 'edgar/data/1163165/0001193125-20-039954.txt'), ('2021-02-16', 'edgar/data/1163165/0001562762-21-000027.txt')], 'NEWMONT Corp /DE/': [('2017-02-21', 'edgar/data/1164727/0001558370-17-000729.txt'), ('2018-02-22', 'edgar/data/1164727/0001558370-18-000894.txt'), ('2019-02-21', 'edgar/data/1164727/0001558370-19-000806.txt'), ('2020-02-20', 'edgar/data/1164727/0001558370-20-001041.txt'), ('2021-02-18', 'edgar/data/1164727/0001164727-21-000027.txt')], 'COMCAST CORP': [('2017-02-03', 'edgar/data/1166691/0001193125-17-030512.txt'), ('2018-01-31', 'edgar/data/1166691/0001166691-18-000004.txt'), ('2019-01-31', 'edgar/data/1166691/0001166691-19-000005.txt'), ('2020-01-30', 'edgar/data/1166691/0001166691-20-000008.txt'), ('2021-02-04', 'edgar/data/1166691/0001166691-21-000008.txt')], 'T-Mobile US, Inc.': [('2017-02-14', 'edgar/data/1283699/0001283699-17-000010.txt'), ('2018-02-08', 'edgar/data/1283699/0001283699-18-000011.txt'), ('2019-02-07', 'edgar/data/1283699/0001283699-19-000015.txt'), ('2020-02-06', 'edgar/data/1283699/0001283699-20-000026.txt'), ('2021-02-23', 'edgar/data/1283699/0001283699-21-000039.txt')], 'BOEING CO': [('2017-02-08', 'edgar/data/12927/0000012927-17-000006.txt'), ('2018-02-12', 'edgar/data/12927/0000012927-18-000007.txt'), ('2019-02-08', 'edgar/data/12927/0000012927-19-000010.txt'), ('2020-01-31', 'edgar/data/12927/0000012927-20-000014.txt'), ('2021-02-01', 'edgar/data/12927/0000012927-21-000011.txt')], 'Tesla, Inc.': [('2017-03-01', 'edgar/data/1318605/0001564590-17-003118.txt'), ('2018-02-23', 'edgar/data/1318605/0001564590-18-002956.txt'), ('2019-02-19', 'edgar/data/1318605/0001564590-19-003165.txt'), ('2020-02-13', 'edgar/data/1318605/0001564590-20-004475.txt'), ('2021-02-08', 'edgar/data/1318605/0001564590-21-004599.txt')], 'Facebook Inc': [('2017-02-03', 'edgar/data/1326801/0001326801-17-000007.txt'), ('2018-02-01', 'edgar/data/1326801/0001326801-18-000009.txt'), ('2019-01-31', 'edgar/data/1326801/0001326801-19-000009.txt'), ('2020-01-30', 'edgar/data/1326801/0001326801-20-000013.txt'), ('2021-01-28', 'edgar/data/1326801/0001326801-21-000014.txt')], 'BlackRock Inc.': [('2017-02-28', 'edgar/data/1364742/0001564590-17-002816.txt'), ('2018-02-28', 'edgar/data/1364742/0001564590-18-003744.txt'), ('2019-02-28', 'edgar/data/1364742/0001564590-19-005479.txt'), ('2020-02-28', 'edgar/data/1364742/0001564590-20-007807.txt'), ('2021-02-25', 'edgar/data/1364742/0001564590-21-008796.txt')], 'ServiceNow, Inc.': [('2017-02-28', 'edgar/data/1373715/0001373715-17-000026.txt'), ('2018-02-28', 'edgar/data/1373715/0001373715-18-000058.txt'), ('2019-02-27', 'edgar/data/1373715/0001373715-19-000070.txt'), ('2020-02-20', 'edgar/data/1373715/0001373715-20-000072.txt'), ('2021-02-12', 'edgar/data/1373715/0001373715-21-000061.txt')], 'Philip Morris International Inc.': [('2017-02-14', 'edgar/data/1413329/0001413329-17-000014.txt'), ('2018-02-13', 'edgar/data/1413329/0001413329-18-000007.txt'), ('2019-02-07', 'edgar/data/1413329/0001413329-19-000007.txt'), ('2020-02-07', 'edgar/data/1413329/0001413329-20-000007.txt'), ('2021-02-09', 'edgar/data/1413329/0001413329-21-000007.txt')], 'BRISTOL MYERS SQUIBB CO': [('2017-02-21', 'edgar/data/14272/0000014272-17-000047.txt'), ('2018-02-13', 'edgar/data/14272/0000014272-18-000055.txt'), ('2019-02-25', 'edgar/data/14272/0000014272-19-000047.txt'), ('2020-02-24', 'edgar/data/14272/0000014272-20-000082.txt'), ('2021-02-10', 'edgar/data/14272/0000014272-21-000066.txt')], 'General Motors Co': [('2017-02-07', 'edgar/data/1467858/0001467858-17-000028.txt'), ('2018-02-06', 'edgar/data/1467858/0001467858-18-000022.txt'), ('2019-02-06', 'edgar/data/1467858/0001467858-19-000033.txt'), ('2020-02-05', 'edgar/data/1467858/0001467858-20-000028.txt'), ('2021-02-10', 'edgar/data/1467858/0001467858-21-000037.txt')], 'AbbVie Inc.': [('2017-02-17', 'edgar/data/1551152/0001551152-17-000004.txt'), ('2018-02-16', 'edgar/data/1551152/0001551152-18-000014.txt'), ('2019-02-27', 'edgar/data/1551152/0001551152-19-000008.txt'), ('2020-02-21', 'edgar/data/1551152/0001551152-20-000007.txt'), ('2021-02-19', 'edgar/data/1551152/0001551152-21-000008.txt')], 'PayPal Holdings, Inc.': [('2017-02-08', 'edgar/data/1633917/0001633917-17-000027.txt'), ('2018-02-07', 'edgar/data/1633917/0001633917-18-000029.txt'), ('2019-02-07', 'edgar/data/1633917/0001633917-19-000043.txt'), ('2020-02-06', 'edgar/data/1633917/0001633917-20-000028.txt'), ('2021-02-05', 'edgar/data/1633917/0001633917-21-000018.txt')], 'Alphabet Inc.': [('2017-02-03', 'edgar/data/1652044/0001652044-17-000008.txt'), ('2018-02-06', 'edgar/data/1652044/0001652044-18-000007.txt'), ('2019-02-05', 'edgar/data/1652044/0001652044-19-000004.txt'), ('2020-02-04', 'edgar/data/1652044/0001652044-20-000008.txt'), ('2021-02-03', 'edgar/data/1652044/0001652044-21-000010.txt')], 'LINDE PLC': [('2018-03-23', 'edgar/data/1707925/0001707925-18-000004.txt'), ('2019-03-18', 'edgar/data/1707925/0001628280-19-003050.txt'), ('2020-03-02', 'edgar/data/1707925/0001707925-20-000015.txt'), ('2021-03-01', 'edgar/data/1707925/0001628280-21-003574.txt')], 'Cigna Corp': [('2017-02-23', 'edgar/data/701221/0001047469-17-000899.txt'), ('2018-02-28', 'edgar/data/701221/0001047469-18-001158.txt'), ('2019-02-28', 'edgar/data/1739940/0001047469-19-000792.txt'), ('2020-02-27', 'edgar/data/1739940/0001739940-20-000006.txt'), ('2021-02-25', 'edgar/data/1739940/0001739940-21-000007.txt')], 'ABBOTT LABORATORIES': [('2017-02-17', 'edgar/data/1800/0001047469-17-000744.txt'), ('2018-02-16', 'edgar/data/1800/0001047469-18-000856.txt'), ('2019-02-22', 'edgar/data/1800/0001047469-19-000624.txt'), ('2020-02-21', 'edgar/data/1800/0001104659-20-023904.txt'), ('2021-02-19', 'edgar/data/1800/0001104659-21-025751.txt')], 'CATERPILLAR INC': [('2017-02-15', 'edgar/data/18230/0000018230-17-000041.txt'), ('2018-02-15', 'edgar/data/18230/0000018230-18-000042.txt'), ('2019-02-14', 'edgar/data/18230/0000018230-19-000034.txt'), ('2020-02-19', 'edgar/data/18230/0000018230-20-000056.txt'), ('2021-02-17', 'edgar/data/18230/0000018230-21-000063.txt')], 'JPMORGAN CHASE & CO': [('2017-02-28', 'edgar/data/19617/0000019617-17-000314.txt'), ('2018-02-27', 'edgar/data/19617/0000019617-18-000057.txt'), ('2019-02-26', 'edgar/data/19617/0000019617-19-000054.txt'), ('2020-02-25', 'edgar/data/19617/0000019617-20-000257.txt'), ('2021-02-23', 'edgar/data/19617/0000019617-21-000236.txt')], 'JOHNSON & JOHNSON': [('2017-02-27', 'edgar/data/200406/0000200406-17-000006.txt'), ('2018-02-21', 'edgar/data/200406/0000200406-18-000005.txt'), ('2019-02-20', 'edgar/data/200406/0000200406-19-000009.txt'), ('2020-02-18', 'edgar/data/200406/0000200406-20-000010.txt'), ('2021-02-22', 'edgar/data/200406/0000200406-21-000008.txt')], 'COCA COLA CO': [('2017-02-24', 'edgar/data/21344/0000021344-17-000009.txt'), ('2018-02-23', 'edgar/data/21344/0000021344-18-000008.txt'), ('2019-02-21', 'edgar/data/21344/0000021344-19-000014.txt'), ('2020-02-24', 'edgar/data/21344/0000021344-20-000006.txt'), ('2021-02-25', 'edgar/data/21344/0000021344-21-000008.txt')], 'ADVANCED MICRO DEVICES INC': [('2017-02-21', 'edgar/data/2488/0000002488-17-000043.txt'), ('2018-02-27', 'edgar/data/2488/0000002488-18-000042.txt'), ('2019-02-08', 'edgar/data/2488/0000002488-19-000011.txt'), ('2020-02-04', 'edgar/data/2488/0000002488-20-000008.txt'), ('2021-01-29', 'edgar/data/2488/0001628280-21-001185.txt')], 'Merck & Co., Inc.': [('2017-02-28', 'edgar/data/310158/0000310158-17-000010.txt'), ('2018-02-27', 'edgar/data/310158/0000310158-18-000005.txt'), ('2019-02-27', 'edgar/data/310158/0000310158-19-000014.txt'), ('2020-02-26', 'edgar/data/310158/0000310158-20-000005.txt'), ('2021-02-25', 'edgar/data/310158/0000310158-21-000004.txt')], 'DANAHER CORP /DE/': [('2017-02-22', 'edgar/data/313616/0000313616-17-000066.txt'), ('2018-02-21', 'edgar/data/313616/0000313616-18-000038.txt'), ('2019-02-21', 'edgar/data/313616/0000313616-19-000035.txt'), ('2020-02-21', 'edgar/data/313616/0000313616-20-000041.txt'), ('2021-02-25', 'edgar/data/313616/0000313616-21-000045.txt')], 'SCHWAB CHARLES CORP': [('2017-02-23', 'edgar/data/316709/0000316709-17-000010.txt'), ('2018-02-22', 'edgar/data/316709/0000316709-18-000009.txt'), ('2019-02-22', 'edgar/data/316709/0000316709-19-000008.txt'), ('2020-02-26', 'edgar/data/316709/0000316709-20-000012.txt'), ('2021-02-24', 'edgar/data/316709/0000316709-21-000012.txt')], 'AMGEN INC': [('2017-02-14', 'edgar/data/318154/0000318154-17-000004.txt'), ('2018-02-13', 'edgar/data/318154/0000318154-18-000004.txt'), ('2019-02-13', 'edgar/data/318154/0000318154-19-000008.txt'), ('2020-02-12', 'edgar/data/318154/0000318154-20-000017.txt'), ('2021-02-09', 'edgar/data/318154/0000318154-21-000010.txt')], 'EXXON MOBIL CORP': [('2017-02-22', 'edgar/data/34088/0000034088-17-000017.txt'), ('2018-02-28', 'edgar/data/34088/0000034088-18-000015.txt'), ('2019-02-27', 'edgar/data/34088/0000034088-19-000010.txt'), ('2020-02-26', 'edgar/data/34088/0000034088-20-000016.txt'), ('2021-02-24', 'edgar/data/34088/0000034088-21-000012.txt')], 'US BANCORP \\\\DE\\\\': [('2017-02-23', 'edgar/data/36104/0001193125-17-053947.txt'), ('2018-02-22', 'edgar/data/36104/0001193125-18-053893.txt'), ('2019-02-22', 'edgar/data/36104/0001193125-19-047201.txt'), ('2020-02-20', 'edgar/data/36104/0001193125-20-043622.txt'), ('2021-02-23', 'edgar/data/36104/0001193125-21-052547.txt')], 'GENERAL ELECTRIC CO': [('2017-02-24', 'edgar/data/40545/0000040545-17-000010.txt'), ('2018-02-23', 'edgar/data/40545/0000040545-18-000014.txt'), ('2019-02-26', 'edgar/data/40545/0000040545-19-000014.txt'), ('2020-02-24', 'edgar/data/40545/0000040545-20-000009.txt'), ('2021-02-12', 'edgar/data/40545/0000040545-21-000011.txt')], 'AMERICAN EXPRESS CO': [('2017-02-17', 'edgar/data/4962/0001193125-17-047588.txt'), ('2018-02-16', 'edgar/data/4962/0000004962-18-000032.txt'), ('2019-02-13', 'edgar/data/4962/0000004962-19-000018.txt'), ('2020-02-13', 'edgar/data/4962/0000004962-20-000030.txt'), ('2021-02-12', 'edgar/data/4962/0000004962-21-000013.txt')], 'INTEL CORP': [('2017-02-17', 'edgar/data/50863/0000050863-17-000012.txt'), ('2018-02-16', 'edgar/data/50863/0000050863-18-000007.txt'), ('2019-02-01', 'edgar/data/50863/0000050863-19-000007.txt'), ('2020-01-24', 'edgar/data/50863/0000050863-20-000011.txt'), ('2021-01-22', 'edgar/data/50863/0000050863-21-000010.txt')], 'INTERNATIONAL BUSINESS MACHINES CORP': [('2017-02-28', 'edgar/data/51143/0001047469-17-001061.txt'), ('2018-02-27', 'edgar/data/51143/0001047469-18-001117.txt'), ('2019-02-26', 'edgar/data/51143/0001047469-19-000712.txt'), ('2020-02-25', 'edgar/data/51143/0001558370-20-001334.txt'), ('2021-02-23', 'edgar/data/51143/0001558370-21-001489.txt')], 'LILLY ELI & Co': [('2020-02-19', 'edgar/data/59478/0000059478-20-000057.txt'), ('2021-02-17', 'edgar/data/59478/0000059478-21-000083.txt')], 'MCDONALDS CORP': [('2017-03-01', 'edgar/data/63908/0000063908-17-000017.txt'), ('2018-02-23', 'edgar/data/63908/0000063908-18-000010.txt'), ('2019-02-22', 'edgar/data/63908/0000063908-19-000010.txt'), ('2020-02-26', 'edgar/data/63908/0000063908-20-000022.txt'), ('2021-02-23', 'edgar/data/63908/0000063908-21-000013.txt')], 'S&P Global Inc.': [('2017-02-09', 'edgar/data/64040/0000064040-17-000015.txt'), ('2018-02-09', 'edgar/data/64040/0000064040-18-000061.txt'), ('2019-02-13', 'edgar/data/64040/0000064040-19-000059.txt'), ('2020-02-10', 'edgar/data/64040/0000064040-20-000055.txt'), ('2021-02-09', 'edgar/data/64040/0000064040-21-000063.txt')], 'CVS HEALTH Corp': [('2017-02-09', 'edgar/data/64803/0000064803-17-000006.txt'), ('2018-02-14', 'edgar/data/64803/0001558370-18-000707.txt'), ('2019-02-28', 'edgar/data/64803/0000064803-19-000013.txt'), ('2020-02-18', 'edgar/data/64803/0000064803-20-000007.txt'), ('2021-02-16', 'edgar/data/64803/0000064803-21-000011.txt')], '3M CO': [('2017-02-09', 'edgar/data/66740/0001558370-17-000479.txt'), ('2018-02-08', 'edgar/data/66740/0001558370-18-000535.txt'), ('2019-02-07', 'edgar/data/66740/0001558370-19-000470.txt'), ('2020-02-06', 'edgar/data/66740/0001558370-20-000581.txt'), ('2021-02-04', 'edgar/data/66740/0001558370-21-000737.txt')], 'BANK OF AMERICA CORP /DE/': [('2017-02-23', 'edgar/data/70858/0000070858-17-000013.txt'), ('2018-02-22', 'edgar/data/70858/0000070858-18-000009.txt'), ('2019-02-26', 'edgar/data/70858/0000070858-19-000012.txt'), ('2020-02-19', 'edgar/data/70858/0000070858-20-000011.txt'), ('2021-02-24', 'edgar/data/70858/0000070858-21-000023.txt')], 'WELLS FARGO & COMPANY/MN': [('2017-03-01', 'edgar/data/72971/0000072971-17-000278.txt'), ('2018-03-01', 'edgar/data/72971/0000072971-18-000272.txt'), ('2019-02-27', 'edgar/data/72971/0000072971-19-000227.txt'), ('2020-02-27', 'edgar/data/72971/0000072971-20-000217.txt'), ('2021-02-23', 'edgar/data/72971/0000072971-21-000197.txt')], 'UNITEDHEALTH GROUP INC': [('2017-02-08', 'edgar/data/731766/0000731766-17-000009.txt'), ('2018-02-13', 'edgar/data/731766/0000731766-18-000005.txt'), ('2019-02-12', 'edgar/data/731766/0000731766-19-000005.txt'), ('2020-02-14', 'edgar/data/731766/0000731766-20-000006.txt'), ('2021-03-01', 'edgar/data/731766/0000731766-21-000013.txt')], 'VERIZON COMMUNICATIONS INC': [('2017-02-21', 'edgar/data/732712/0001193125-17-050292.txt'), ('2018-02-23', 'edgar/data/732712/0000732712-18-000009.txt'), ('2019-02-15', 'edgar/data/732712/0000732712-19-000012.txt'), ('2020-02-21', 'edgar/data/732712/0000732712-20-000014.txt'), ('2021-02-25', 'edgar/data/732712/0000732712-21-000012.txt')], 'AT&T INC.': [('2017-02-17', 'edgar/data/732717/0000732717-17-000021.txt'), ('2018-02-20', 'edgar/data/732717/0000732717-18-000009.txt'), ('2019-02-20', 'edgar/data/732717/0001193125-19-045608.txt'), ('2020-02-20', 'edgar/data/732717/0001562762-20-000064.txt'), ('2021-02-25', 'edgar/data/732717/0000732717-21-000012.txt')], 'NEXTERA ENERGY INC': [('2017-02-23', 'edgar/data/753308/0000753308-17-000060.txt'), ('2018-02-16', 'edgar/data/753308/0000753308-18-000013.txt'), ('2019-02-15', 'edgar/data/753308/0000753308-19-000039.txt'), ('2020-02-14', 'edgar/data/753308/0000753308-20-000021.txt'), ('2021-02-12', 'edgar/data/753308/0000753308-21-000014.txt')], 'ALTRIA GROUP, INC.': [('2017-02-27', 'edgar/data/764180/0000764180-17-000028.txt'), ('2018-02-27', 'edgar/data/764180/0000764180-18-000028.txt'), ('2019-02-26', 'edgar/data/764180/0000764180-19-000023.txt'), ('2020-02-25', 'edgar/data/764180/0000764180-20-000018.txt'), ('2021-02-26', 'edgar/data/764180/0000764180-21-000037.txt')], 'HONEYWELL INTERNATIONAL INC': [('2017-02-10', 'edgar/data/773840/0000930413-17-000391.txt'), ('2018-02-09', 'edgar/data/773840/0000930413-18-000292.txt'), ('2019-02-08', 'edgar/data/773840/0000930413-19-000366.txt'), ('2020-02-14', 'edgar/data/773840/0000773840-20-000009.txt'), ('2021-02-12', 'edgar/data/773840/0000773840-21-000015.txt')], 'PEPSICO INC': [('2017-02-15', 'edgar/data/77476/0000077476-17-000010.txt'), ('2018-02-13', 'edgar/data/77476/0000077476-18-000012.txt'), ('2019-02-15', 'edgar/data/77476/0000077476-19-000017.txt'), ('2020-02-13', 'edgar/data/77476/0000077476-20-000015.txt'), ('2021-02-11', 'edgar/data/77476/0000077476-21-000007.txt')], 'PFIZER INC': [('2017-02-23', 'edgar/data/78003/0000078003-17-000014.txt'), ('2018-02-22', 'edgar/data/78003/0000078003-18-000027.txt'), ('2019-02-28', 'edgar/data/78003/0000078003-19-000015.txt'), ('2020-02-27', 'edgar/data/78003/0000078003-20-000014.txt'), ('2021-02-25', 'edgar/data/78003/0000078003-21-000038.txt')], 'ADOBE INC.': [('2017-01-20', 'edgar/data/796343/0000796343-17-000031.txt'), ('2018-01-22', 'edgar/data/796343/0000796343-18-000015.txt'), ('2019-01-25', 'edgar/data/796343/0000796343-19-000019.txt'), ('2020-01-21', 'edgar/data/796343/0000796343-20-000013.txt'), ('2021-01-15', 'edgar/data/796343/0000796343-21-000004.txt')], 'FISERV INC': [('2017-02-23', 'edgar/data/798354/0000798354-17-000006.txt'), ('2018-02-22', 'edgar/data/798354/0000798354-18-000005.txt'), ('2019-02-21', 'edgar/data/798354/0000798354-19-000005.txt'), ('2020-02-27', 'edgar/data/798354/0000798354-20-000006.txt'), ('2021-02-26', 'edgar/data/798354/0000798354-21-000004.txt')], 'CITIGROUP INC': [('2017-02-24', 'edgar/data/831001/0000831001-17-000038.txt'), ('2018-02-23', 'edgar/data/831001/0000831001-18-000040.txt'), ('2019-02-22', 'edgar/data/831001/0000831001-19-000027.txt'), ('2020-02-21', 'edgar/data/831001/0000831001-20-000031.txt'), ('2021-02-26', 'edgar/data/831001/0000831001-21-000042.txt')], 'GILEAD SCIENCES INC': [('2017-02-27', 'edgar/data/882095/0000882095-17-000006.txt'), ('2018-02-27', 'edgar/data/882095/0000882095-18-000008.txt'), ('2019-02-26', 'edgar/data/882095/0000882095-19-000006.txt'), ('2020-02-25', 'edgar/data/882095/0000882095-20-000006.txt'), ('2021-02-25', 'edgar/data/882095/0000882095-21-000008.txt')], 'GOLDMAN SACHS GROUP INC': [('2017-02-27', 'edgar/data/886982/0001193125-17-056804.txt'), ('2018-02-26', 'edgar/data/886982/0001193125-18-056383.txt'), ('2019-02-26', 'edgar/data/886982/0001193125-19-050198.txt'), ('2020-02-21', 'edgar/data/886982/0001193125-20-043853.txt'), ('2021-02-22', 'edgar/data/886982/0001193125-21-049380.txt')], 'MORGAN STANLEY': [('2017-02-27', 'edgar/data/895421/0001193125-17-059212.txt'), ('2018-02-27', 'edgar/data/895421/0001193125-18-060831.txt'), ('2019-02-26', 'edgar/data/895421/0001193125-19-051943.txt'), ('2020-02-27', 'edgar/data/895421/0000895421-20-000265.txt'), ('2021-02-26', 'edgar/data/895421/0000895421-21-000286.txt')], 'TRUIST FINANCIAL CORP': [('2017-02-21', 'edgar/data/92230/0000092230-17-000021.txt'), ('2018-02-21', 'edgar/data/92230/0000092230-18-000021.txt'), ('2019-02-26', 'edgar/data/92230/0000092230-19-000017.txt'), ('2020-03-03', 'edgar/data/92230/0000092230-20-000045.txt'), ('2021-02-24', 'edgar/data/92230/0000092230-21-000032.txt')], 'CHEVRON CORP': [('2017-02-23', 'edgar/data/93410/0000093410-17-000013.txt'), ('2018-02-22', 'edgar/data/93410/0000093410-18-000010.txt'), ('2019-02-22', 'edgar/data/93410/0000093410-19-000008.txt'), ('2020-02-21', 'edgar/data/93410/0000093410-20-000010.txt'), ('2021-02-25', 'edgar/data/93410/0000093410-21-000009.txt')], 'LOCKHEED MARTIN CORP': [('2017-02-09', 'edgar/data/936468/0001193125-17-036192.txt'), ('2018-02-06', 'edgar/data/936468/0000936468-18-000009.txt'), ('2019-02-08', 'edgar/data/936468/0000936468-19-000009.txt'), ('2020-02-07', 'edgar/data/936468/0000936468-20-000016.txt'), ('2021-01-28', 'edgar/data/936468/0000936468-21-000013.txt')], 'TEXAS INSTRUMENTS INC': [('2017-02-23', 'edgar/data/97476/0001564590-17-002142.txt'), ('2018-02-22', 'edgar/data/97476/0001564590-18-002832.txt'), ('2019-02-22', 'edgar/data/97476/0001564590-19-003839.txt'), ('2020-02-20', 'edgar/data/97476/0000097476-20-000009.txt'), ('2021-02-05', 'edgar/data/97476/0000097476-21-000006.txt')], 'THERMO FISHER SCIENTIFIC INC.': [('2017-02-28', 'edgar/data/97745/0000097745-17-000007.txt'), ('2018-02-28', 'edgar/data/97745/0000097745-18-000006.txt'), ('2019-02-27', 'edgar/data/97745/0000097745-19-000007.txt'), ('2020-02-26', 'edgar/data/97745/0000097745-20-000009.txt'), ('2021-02-25', 'edgar/data/97745/0000097745-21-000011.txt')], 'Walmart Inc.': [('2016-03-30', 'edgar/data/104169/0000104169-16-000079.txt'), ('2017-03-31', 'edgar/data/104169/0000104169-17-000021.txt'), ('2018-03-30', 'edgar/data/104169/0000104169-18-000028.txt'), ('2019-03-28', 'edgar/data/104169/0000104169-19-000016.txt'), ('2020-03-20', 'edgar/data/104169/0000104169-20-000011.txt')], 'SALESFORCE COM INC': [('2016-03-04', 'edgar/data/1108524/0001108524-16-000053.txt'), ('2017-03-06', 'edgar/data/1108524/0001108524-17-000006.txt'), ('2018-03-09', 'edgar/data/1108524/0001108524-18-000011.txt'), ('2019-03-08', 'edgar/data/1108524/0001108524-19-000009.txt'), ('2020-03-05', 'edgar/data/1108524/0001108524-20-000014.txt')], 'TARGET CORP': [('2017-03-08', 'edgar/data/27419/0000027419-17-000008.txt'), ('2018-03-14', 'edgar/data/27419/0000027419-18-000010.txt'), ('2019-03-13', 'edgar/data/27419/0000027419-19-000006.txt'), ('2020-03-11', 'edgar/data/27419/0000027419-20-000008.txt'), ('2021-03-10', 'edgar/data/27419/0000027419-21-000010.txt')], 'HOME DEPOT INC': [('2016-03-24', 'edgar/data/354950/0000354950-16-000060.txt'), ('2017-03-23', 'edgar/data/354950/0000354950-17-000005.txt'), ('2018-03-22', 'edgar/data/354950/0000354950-18-000019.txt'), ('2019-03-28', 'edgar/data/354950/0000354950-19-000010.txt'), ('2020-03-25', 'edgar/data/354950/0000354950-20-000015.txt')], 'LOWES COMPANIES INC': [('2016-03-29', 'edgar/data/60667/0000060667-16-000276.txt'), ('2017-04-04', 'edgar/data/60667/0000060667-17-000076.txt'), ('2018-04-02', 'edgar/data/60667/0000060667-18-000051.txt'), ('2019-04-02', 'edgar/data/60667/0000060667-19-000042.txt'), ('2020-03-23', 'edgar/data/60667/0000060667-20-000036.txt')], 'LILLY ELI & CO': [('2017-02-21', 'edgar/data/59478/0000059478-17-000098.txt'), ('2018-02-20', 'edgar/data/59478/0000059478-18-000089.txt'), ('2019-02-19', 'edgar/data/59478/0000059478-19-000082.txt')], 'Medtronic plc': [('2016-06-28', 'edgar/data/1613103/0001613103-16-000093.txt'), ('2017-06-27', 'edgar/data/1613103/0001613103-17-000018.txt'), ('2018-06-22', 'edgar/data/1613103/0001613103-18-000024.txt'), ('2019-06-21', 'edgar/data/1613103/0001613103-19-000028.txt'), ('2020-06-19', 'edgar/data/1613103/0001613103-20-000021.txt')], 'ORACLE CORP': [('2016-06-22', 'edgar/data/1341439/0001193125-16-628942.txt'), ('2017-06-27', 'edgar/data/1341439/0001193125-17-214833.txt'), ('2018-06-22', 'edgar/data/1341439/0001193125-18-201034.txt'), ('2019-06-21', 'edgar/data/1341439/0001564590-19-023119.txt'), ('2020-06-22', 'edgar/data/1341439/0001564590-20-030125.txt')], 'NIKE INC': [('2016-07-21', 'edgar/data/320187/0000320187-16-000336.txt'), ('2017-07-20', 'edgar/data/320187/0000320187-17-000090.txt'), ('2018-07-25', 'edgar/data/320187/0000320187-18-000142.txt'), ('2019-07-23', 'edgar/data/320187/0000320187-19-000051.txt'), ('2020-07-24', 'edgar/data/320187/0000320187-20-000047.txt')], 'MICROSOFT CORP': [('2016-07-28', 'edgar/data/789019/0001193125-16-662209.txt'), ('2017-08-02', 'edgar/data/789019/0001564590-17-014900.txt'), ('2018-08-03', 'edgar/data/789019/0001564590-18-019062.txt'), ('2019-08-01', 'edgar/data/789019/0001564590-19-027952.txt'), ('2020-07-30', 'edgar/data/789019/0001564590-20-034944.txt')], 'PROCTER & GAMBLE Co': [('2016-08-09', 'edgar/data/80424/0000080424-16-000212.txt'), ('2017-08-07', 'edgar/data/80424/0000080424-17-000047.txt'), ('2018-08-07', 'edgar/data/80424/0000080424-18-000055.txt'), ('2019-08-06', 'edgar/data/80424/0000080424-19-000050.txt'), ('2020-08-06', 'edgar/data/80424/0000080424-20-000053.txt')], 'ESTEE LAUDER COMPANIES INC': [('2016-08-24', 'edgar/data/1001250/0001104659-16-141179.txt'), ('2017-08-25', 'edgar/data/1001250/0001104659-17-053604.txt'), ('2018-08-24', 'edgar/data/1001250/0001104659-18-053494.txt'), ('2019-08-23', 'edgar/data/1001250/0001104659-19-047085.txt'), ('2020-08-28', 'edgar/data/1001250/0001001250-20-000065.txt')], 'INTUIT INC': [('2016-09-01', 'edgar/data/896878/0000896878-16-000286.txt'), ('2017-09-01', 'edgar/data/896878/0000896878-17-000130.txt'), ('2018-08-31', 'edgar/data/896878/0000896878-18-000171.txt'), ('2019-08-30', 'edgar/data/896878/0000896878-19-000132.txt'), ('2020-08-31', 'edgar/data/896878/0000896878-20-000148.txt')], 'CISCO SYSTEMS, INC.': [('2016-09-08', 'edgar/data/858877/0000858877-16-000117.txt'), ('2017-09-07', 'edgar/data/858877/0000858877-17-000016.txt'), ('2018-09-06', 'edgar/data/858877/0000858877-18-000011.txt'), ('2019-09-05', 'edgar/data/858877/0000858877-19-000012.txt'), ('2020-09-03', 'edgar/data/858877/0000858877-20-000010.txt')], 'VISA INC.': [('2016-11-15', 'edgar/data/1403161/0001403161-16-000058.txt'), ('2017-11-17', 'edgar/data/1403161/0001403161-17-000044.txt'), ('2018-11-16', 'edgar/data/1403161/0001403161-18-000055.txt'), ('2019-11-14', 'edgar/data/1403161/0001403161-19-000050.txt'), ('2020-11-19', 'edgar/data/1403161/0001403161-20-000070.txt')], 'Accenture plc': [('2016-10-28', 'edgar/data/1467373/0001467373-16-001080.txt'), ('2017-10-26', 'edgar/data/1467373/0001467373-17-000430.txt'), ('2018-10-24', 'edgar/data/1467373/0001467373-18-000318.txt'), ('2019-10-29', 'edgar/data/1467373/0001467373-19-000339.txt'), ('2020-10-22', 'edgar/data/1467373/0001467373-20-000376.txt')], 'DEERE & CO': [('2016-12-19', 'edgar/data/315189/0001047469-16-017244.txt'), ('2017-12-18', 'edgar/data/315189/0001047469-17-007719.txt'), ('2018-12-17', 'edgar/data/315189/0001047469-18-007694.txt'), ('2019-12-19', 'edgar/data/315189/0001558370-19-011614.txt'), ('2020-12-17', 'edgar/data/315189/0001558370-20-014436.txt')], 'APPLE Inc': [('2016-10-26', 'edgar/data/320193/0001628280-16-020309.txt'), ('2017-11-03', 'edgar/data/320193/0000320193-17-000070.txt')], 'APPLIED MATERIALS INC /DE': [('2016-12-15', 'edgar/data/6951/0000006951-16-000068.txt'), ('2017-12-15', 'edgar/data/6951/0000006951-17-000038.txt'), ('2018-12-13', 'edgar/data/6951/0000006951-18-000041.txt'), ('2019-12-13', 'edgar/data/6951/0000006951-19-000046.txt'), ('2020-12-11', 'edgar/data/6951/0000006951-20-000048.txt')], 'MICRON TECHNOLOGY INC': [('2016-10-28', 'edgar/data/723125/0000723125-16-000269.txt'), ('2017-10-26', 'edgar/data/723125/0000723125-17-000131.txt'), ('2018-10-15', 'edgar/data/723125/0000723125-18-000092.txt'), ('2019-10-17', 'edgar/data/723125/0000723125-19-000094.txt'), ('2020-10-19', 'edgar/data/723125/0000723125-20-000082.txt')], 'QUALCOMM INC/DE': [('2016-11-02', 'edgar/data/804328/0001234452-16-000552.txt'), ('2017-11-01', 'edgar/data/804328/0001234452-17-000190.txt'), ('2018-11-07', 'edgar/data/804328/0001728949-18-000095.txt'), ('2019-11-06', 'edgar/data/804328/0001728949-19-000072.txt'), ('2020-11-04', 'edgar/data/804328/0001728949-20-000067.txt')], 'STARBUCKS CORP': [('2016-11-18', 'edgar/data/829224/0000829224-16-000083.txt'), ('2017-11-17', 'edgar/data/829224/0000829224-17-000049.txt'), ('2018-11-16', 'edgar/data/829224/0000829224-18-000052.txt'), ('2019-11-15', 'edgar/data/829224/0000829224-19-000051.txt'), ('2020-11-12', 'edgar/data/829224/0000829224-20-000078.txt')], 'COSTCO WHOLESALE CORP /NEW': [('2016-10-12', 'edgar/data/909832/0000909832-16-000032.txt'), ('2017-10-18', 'edgar/data/909832/0000909832-17-000014.txt'), ('2018-10-26', 'edgar/data/909832/0000909832-18-000013.txt'), ('2019-10-11', 'edgar/data/909832/0000909832-19-000019.txt'), ('2020-10-07', 'edgar/data/909832/0000909832-20-000017.txt')], 'Broadcom Inc.': [('2016-12-23', 'edgar/data/1649338/0001649338-16-000151.txt'), ('2017-12-21', 'edgar/data/1649338/0001649338-17-000158.txt'), ('2018-12-21', 'edgar/data/1730168/0001730168-18-000084.txt'), ('2019-12-20', 'edgar/data/1730168/0001730168-19-000144.txt'), ('2020-12-18', 'edgar/data/1730168/0001730168-20-000226.txt')], 'APPLE INC': [('2018-11-05', 'edgar/data/320193/0000320193-18-000145.txt')], 'Walt Disney Co': [('2016-11-23', 'edgar/data/1001039/0001001039-16-000516.txt'), ('2017-11-22', 'edgar/data/1001039/0001001039-17-000198.txt'), ('2018-11-21', 'edgar/data/1001039/0001001039-18-000187.txt'), ('2019-11-20', 'edgar/data/1744489/0001744489-19-000225.txt'), ('2020-11-25', 'edgar/data/1744489/0001744489-20-000197.txt')], 'Apple Inc': [('2019-10-31', 'edgar/data/320193/0000320193-19-000119.txt'), ('2020-10-30', 'edgar/data/320193/0000320193-20-000096.txt')]}\n"
     ]
    }
   ],
   "source": [
    "print(master_index)"
   ]
  }
 ],
 "metadata": {
  "kernelspec": {
   "display_name": "Python 3",
   "language": "python",
   "name": "python3"
  },
  "language_info": {
   "codemirror_mode": {
    "name": "ipython",
    "version": 3
   },
   "file_extension": ".py",
   "mimetype": "text/x-python",
   "name": "python",
   "nbconvert_exporter": "python",
   "pygments_lexer": "ipython3",
   "version": "3.8.2"
  }
 },
 "nbformat": 4,
 "nbformat_minor": 4
}
