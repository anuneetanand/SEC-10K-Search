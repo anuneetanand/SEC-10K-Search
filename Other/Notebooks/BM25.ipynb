{
 "cells": [
  {
   "cell_type": "markdown",
   "metadata": {},
   "source": [
    "## BM25"
   ]
  },
  {
   "cell_type": "code",
   "execution_count": 1,
   "metadata": {},
   "outputs": [],
   "source": [
    "import re\n",
    "import json\n",
    "import time\n",
    "import codecs\n",
    "import string\n",
    "import pickle\n",
    "\n",
    "from tqdm import tqdm\n",
    "from pathlib import Path\n",
    "from rank_bm25 import BM25Okapi\n",
    "from collections import OrderedDict\n",
    "\n",
    "from nltk.corpus import stopwords\n",
    "from nltk.stem import WordNetLemmatizer\n",
    "from nltk.tokenize import word_tokenize"
   ]
  },
  {
   "cell_type": "code",
   "execution_count": 2,
   "metadata": {},
   "outputs": [],
   "source": [
    "def clean(text):\n",
    "\n",
    "    lemmatizer = WordNetLemmatizer()\n",
    "    stop_words = set(stopwords.words(\"english\"))\n",
    "    \n",
    "    text = text.lower().strip()\n",
    "    text = re.sub(r'[^a-z\\s]', '', text)\n",
    "    text = ' '.join([w for w in word_tokenize(text) if not w in stop_words])\n",
    "    text = ' '.join([lemmatizer.lemmatize(w) for w in word_tokenize(text) if not w in stop_words])\n",
    "    \n",
    "    return text"
   ]
  },
  {
   "cell_type": "code",
   "execution_count": 3,
   "metadata": {},
   "outputs": [],
   "source": [
    "Data = json.load(open('../Dumps/corpus.json','r',encoding='utf-8',errors='ignore'))"
   ]
  },
  {
   "cell_type": "code",
   "execution_count": 4,
   "metadata": {},
   "outputs": [
    {
     "name": "stderr",
     "output_type": "stream",
     "text": [
      "100%|██████████| 494/494 [05:01<00:00,  1.64it/s]\n"
     ]
    }
   ],
   "source": [
    "corpus = ['' for i in range(len(Data))]\n",
    "\n",
    "for i in tqdm(Data):\n",
    "    Tokens = word_tokenize(clean(' '.join(Data[i])))\n",
    "    corpus[int(i)] = Tokens"
   ]
  },
  {
   "cell_type": "code",
   "execution_count": 5,
   "metadata": {},
   "outputs": [],
   "source": [
    "bm25 = BM25Okapi(corpus)"
   ]
  },
  {
   "cell_type": "code",
   "execution_count": 6,
   "metadata": {},
   "outputs": [],
   "source": [
    "pickle.dump(corpus,open('../Dumps/bm25_corpus.pkl','wb'))\n",
    "pickle.dump(bm25,open('../Dumps/bm25.pkl','wb'))"
   ]
  },
  {
   "cell_type": "code",
   "execution_count": 4,
   "metadata": {},
   "outputs": [],
   "source": [
    "corpus = pickle.load(open('../Dumps/bm25_corpus.pkl','rb'))\n",
    "bm25 = pickle.load(open('../Dumps/bm25.pkl','rb'))\n",
    "Index = pickle.load(open('../Dumps/index.pkl','rb'))\n",
    "company = pickle.load(open('../Dumps/company_index.pkl','rb'))"
   ]
  },
  {
   "cell_type": "code",
   "execution_count": 5,
   "metadata": {},
   "outputs": [
    {
     "name": "stdout",
     "output_type": "stream",
     "text": [
      "macbook\n"
     ]
    },
    {
     "data": {
      "text/plain": [
       "[(8.86212612378395, 483),\n",
       " (8.331892280675806, 472),\n",
       " (8.053576405847107, 461),\n",
       " (6.999546701616093, 442),\n",
       " (6.9630544279795705, 451),\n",
       " (0.0, 493),\n",
       " (0.0, 492),\n",
       " (0.0, 491),\n",
       " (0.0, 490),\n",
       " (0.0, 489)]"
      ]
     },
     "execution_count": 5,
     "metadata": {},
     "output_type": "execute_result"
    }
   ],
   "source": [
    "query = list(clean(input()).split())\n",
    "Scores = bm25.get_scores(query)\n",
    "\n",
    "Ranking = sorted( [(Scores[i],i) for i in range(len(Scores))] ,reverse=True)\n",
    "Ranking[:10]"
   ]
  },
  {
   "cell_type": "code",
   "execution_count": 8,
   "metadata": {},
   "outputs": [
    {
     "data": {
      "text/plain": [
       "['As of September\\xa028, 2019, a portion of the Company’s Japanese yen–denominated notes with a carrying value of $']"
      ]
     },
     "execution_count": 8,
     "metadata": {},
     "output_type": "execute_result"
    }
   ],
   "source": [
    "Best_doc_corpus = Data[str(Ranking[0][1])]\n",
    "bm25_sen = BM25Okapi([i.split() for i in Best_doc_corpus])\n",
    "bm25_sen.get_top_n(query,Best_doc_corpus, n=1)"
   ]
  }
 ],
 "metadata": {
  "kernelspec": {
   "display_name": "Python 3",
   "language": "python",
   "name": "python3"
  },
  "language_info": {
   "codemirror_mode": {
    "name": "ipython",
    "version": 3
   },
   "file_extension": ".py",
   "mimetype": "text/x-python",
   "name": "python",
   "nbconvert_exporter": "python",
   "pygments_lexer": "ipython3",
   "version": "3.8.2"
  }
 },
 "nbformat": 4,
 "nbformat_minor": 4
}
