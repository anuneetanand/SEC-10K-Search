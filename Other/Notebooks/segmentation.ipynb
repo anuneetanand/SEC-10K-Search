{
 "cells": [
  {
   "cell_type": "code",
   "execution_count": 106,
   "metadata": {},
   "outputs": [],
   "source": [
    "from helper import *\n",
    "import time"
   ]
  },
  {
   "cell_type": "code",
   "execution_count": 114,
   "metadata": {},
   "outputs": [
    {
     "name": "stdout",
     "output_type": "stream",
     "text": [
      "4859\n",
      "Item 1—Business 2\n",
      "4859 1722 2405\n"
     ]
    }
   ],
   "source": [
    "text = read_text('./osheen/447.txt')\n",
    "paragraphs = text.split('\\n')\n",
    "print(len(paragraphs))\n",
    "sentences = []\n",
    "remaining_paragraphs = []\n",
    "for paragraph in paragraphs:\n",
    "    flag = False\n",
    "    for sentence in split_into_sentences(paragraph):\n",
    "        if sentence == 'Item 1—Business':\n",
    "            print(sentence, len(sentence.split()))\n",
    "        if len(sentence.split()) > 1:\n",
    "            flag = True\n",
    "            sentences.append(sentence)\n",
    "    if flag:\n",
    "        remaining_paragraphs.append(paragraph)\n",
    "        \n",
    "print(len(paragraphs), len(remaining_paragraphs), len(sentences))\n"
   ]
  },
  {
   "cell_type": "code",
   "execution_count": 118,
   "metadata": {},
   "outputs": [
    {
     "name": "stdout",
     "output_type": "stream",
     "text": [
      "Item 1.\n",
      "Item 1A.\n",
      "Item 1B.\n",
      "Item 2.\n",
      "Item 3.\n",
      "Item 4.\n",
      "Item 5.\n",
      "Item 6.\n",
      "Item 7.\n",
      "Item 7A.\n",
      "Item 8.\n",
      "Item 9.\n",
      "Item 9A.\n",
      "Item 9B.\n",
      "Item 10.\n",
      "Item 11.\n",
      "Item 12.\n",
      "Item 13.\n",
      "Item 14.\n",
      "Item 15.\n",
      "Item 1—Business\n",
      "Item 1—Business (Continued)\n",
      "Item 1—Business (Continued)\n",
      "Item 1—Business (Continued)\n",
      "Item 1—Business (Continued)\n",
      "Item 1A—Risk Factors\n",
      "Item 1A—Risk Factors (Continued)\n",
      "Item 1A—Risk Factors (Continued)\n",
      "Item 1A—Risk Factors (Continued)\n",
      "Item 1A—Risk Factors (Continued)\n",
      "Item 1A—Risk Factors (Continued)\n",
      "Item 1A—Risk Factors (Continued)\n",
      "Item 1A—Risk Factors (Continued)\n",
      "Item 1B—Unresolved Staff Comments\n",
      "Item 2—Properties\n",
      "Item 3—Legal Proceedings\n",
      "Item 4—Mine Safety Disclosures\n",
      "Item 5—Market for Registrant’s Common Equity, Related Stockholder Matters and Issuer Purchases of Equity Securities\n",
      "Item 6—Selected Financial Data\n",
      "Item 7—Management’s Discussion and Analysis of Financial Condition and Results of Operations\n",
      "Item 7—Management’s Discussion and Analysis of Financial Condition and Results of Operations\n",
      "Item 7—Management’s Discussion and Analysis of Financial Condition and Results of Operations\n",
      "Item 7—Management’s Discussion and Analysis of Financial Condition and Results of Operations\n",
      "Item 7—Management’s Discussion and Analysis of Financial Condition and Results of Operations\n",
      "Item 7—Management’s Discussion and Analysis of Financial Condition and Results of Operations\n",
      "Item 7—Management’s Discussion and Analysis of Financial Condition and Results of Operations\n",
      "Item 7—Management’s Discussion and Analysis of Financial Condition and Results of Operations\n",
      "Item 7—Management’s Discussion and Analysis of Financial Condition and Results of Operations\n",
      "Item 7—Management’s Discussion and Analysis of Financial Condition and Results of Operations\n",
      "Item 7—Management’s Discussion and Analysis of Financial Condition and Results of Operations\n",
      "Item 7—Management’s Discussion and Analysis of Financial Condition and Results of Operations\n",
      "Item 7A—Quantitative and Qualitative Disclosures About Market Risk (amounts in millions)\n",
      "Item 7A—Quantitative and Qualitative Disclosures About Market Risk (amounts in millions)(Continued)\n",
      "Item 8—Financial Statements and Supplementary Data\n",
      "Item 9—Changes in and Disagreements with Accountants on Accounting and Financial Disclosure\n",
      "Item 9A—Controls and Procedures\n",
      "Item 9A—Controls and Procedures (Continued)\n",
      "Item 9B—Other Information\n",
      "Item 10—Directors, Executive Officers and Corporate Governance\n",
      "Item 11—Executive Compensation\n",
      "Item 12—Security Ownership of Certain Beneficial Owners and Management and Related Stockholder Matters\n",
      "Item 13—Certain Relationships and Related Transactions, and Director Independence\n",
      "Item 14—Principal Accounting Fees and Services\n",
      "Item 15—Exhibits, Financial Statement Schedules\n"
     ]
    }
   ],
   "source": [
    "import re\n",
    "\n",
    "item_re = re.compile('((?P<item_no>[0-9]*)(?![0-9])(.*))')\n",
    "items = {}\n",
    "item = None\n",
    "for sentence in sentences:\n",
    "    words = sentence.lower().split()\n",
    "    if words[0] == 'item':\n",
    "        match = item_re.fullmatch(' '.join(words[1:]))\n",
    "        if match:\n",
    "            print(sentence)\n",
    "            item = match.group('item_no')\n",
    "            if item not in items:\n",
    "                items[item] = []\n",
    "    if item:\n",
    "        items[item].append(sentence)"
   ]
  },
  {
   "cell_type": "code",
   "execution_count": 119,
   "metadata": {},
   "outputs": [
    {
     "name": "stdout",
     "output_type": "stream",
     "text": [
      "1 : 353\n",
      "2 : 37\n",
      "3 : 5\n",
      "4 : 6\n",
      "5 : 34\n",
      "6 : 45\n",
      "7 : 396\n",
      "8 : 17\n",
      "9 : 53\n",
      "10 : 5\n",
      "11 : 4\n",
      "12 : 4\n",
      "13 : 4\n",
      "14 : 7\n",
      "15 : 1384\n"
     ]
    }
   ],
   "source": [
    "for item in items:\n",
    "    print(item, ':', len(items[item]))"
   ]
  },
  {
   "cell_type": "code",
   "execution_count": 120,
   "metadata": {},
   "outputs": [
    {
     "name": "stdout",
     "output_type": "stream",
     "text": [
      "['Item 5.', 'Market for Registrant’s Common Equity, Related Stockholder Matters and Issuer Purchases of Equity Securities', 'Item\\xa05—Market for Registrant’s Common Equity, Related Stockholder Matters and Issuer Purchases of Equity Securities', 'Market Information and Dividend Policy', 'Our common stock is traded on the NASDAQ Global Select Market under the symbol “COST.” On', 'October\\xa04, 2016', ', we had', 'stockholders of record.', 'The following table shows the quarterly high and low closing prices as reported by NASDAQ for each quarter during the last two fiscal years and the quarterly cash dividend declared per share of our common stock.', 'Price Range', 'Fourth Quarter', 'Third Quarter', 'Second Quarter', 'First Quarter', 'Fourth Quarter', 'Third Quarter', 'Second Quarter', 'First Quarter', 'Payment of future dividends is subject to declaration by the Board of Directors.', 'Factors considered in determining dividends include our profitability and expected capital needs.', 'Subject to these qualifications, we presently expect to continue to pay dividends on a quarterly basis.', 'Table of Contents', 'Issuer Purchases of Equity Securities', 'The following table sets forth information on our common stock repurchase program activity for the fourth quarter of fiscal 2016 (dollars in millions, except per share data):', 'Total Number of Shares Purchased', 'Average Price Paid per Share', 'Total Number of Shares Purchased as Part of Publicly Announced Program', 'Maximum Dollar Value of Shares that May Yet be Purchased under the Program', 'May 9—June 5, 2016', 'June 6—July 3, 2016', 'July 4—July 31, 2016', 'August 1—August 28, 2016', 'Total fourth quarter', 'Table of Contents']\n"
     ]
    }
   ],
   "source": [
    "print(items['5'])"
   ]
  },
  {
   "cell_type": "code",
   "execution_count": null,
   "metadata": {},
   "outputs": [],
   "source": []
  }
 ],
 "metadata": {
  "kernelspec": {
   "display_name": "Python 3",
   "language": "python",
   "name": "python3"
  },
  "language_info": {
   "codemirror_mode": {
    "name": "ipython",
    "version": 3
   },
   "file_extension": ".py",
   "mimetype": "text/x-python",
   "name": "python",
   "nbconvert_exporter": "python",
   "pygments_lexer": "ipython3",
   "version": "3.8.2"
  }
 },
 "nbformat": 4,
 "nbformat_minor": 4
}
