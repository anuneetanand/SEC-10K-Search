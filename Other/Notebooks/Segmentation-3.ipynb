{
 "cells": [
  {
   "cell_type": "code",
   "execution_count": 1,
   "metadata": {},
   "outputs": [],
   "source": [
    "import re\n",
    "import json\n",
    "import time\n",
    "import codecs\n",
    "import pandas as pd\n",
    "from tqdm import tqdm\n",
    "from pathlib import Path\n",
    "setup = True"
   ]
  },
  {
   "cell_type": "code",
   "execution_count": 2,
   "metadata": {},
   "outputs": [],
   "source": [
    "def clean(text):    \n",
    "    text = text.lower().strip()\n",
    "    text = re.sub(r'[^a-z0-9\\s]', '', text)\n",
    "    return text"
   ]
  },
  {
   "cell_type": "code",
   "execution_count": 3,
   "metadata": {},
   "outputs": [],
   "source": [
    "def cut(temp,doc):\n",
    "\n",
    "    data = []\n",
    "    tags ={'item 0': 0, 'item 1': 0, 'item 2': 0, 'item 3': 0, 'item 4': 0, 'item 5': 0, 'item 6': 0, 'item 7': 0, 'item 8': 0, 'item 9': 0, 'item 10': 0, 'item 11': 0, 'item 12': 0, 'item 13': 0, 'item 14': 0, 'item 15': 0, 'item 16': 0}\n",
    "    for i in temp:\n",
    "        h = ''.join([j if ord(j) < 128 and ord(j)>31 else ' ' for j in i])\n",
    "        if len(h)>5 and len(h.split())>1:\n",
    "            data.append(h)\n",
    "    \n",
    "    c = 1\n",
    "    s = 0\n",
    "    e = len(data)\n",
    "\n",
    "    limits = {}\n",
    "    i = 0\n",
    "    while i <len(data):\n",
    "        \n",
    "        if 'font-size' in data[i] or '/div>' in data[i]:\n",
    "            e = i\n",
    "            break\n",
    "        \n",
    "        if c<len(tags) and 'item '+str(c) in clean(data[i]):\n",
    "            e = i\n",
    "            limits['item '+str(c-1)]=[s,e]\n",
    "            s = i\n",
    "            c+=1\n",
    "        if len(limits)>1 and limits['item 1'][1]-limits['item 1'][0]<10:\n",
    "            c = 1\n",
    "            limits = {}\n",
    "            i+=100\n",
    "        i+=1\n",
    "            \n",
    "        \n",
    "    limits['item '+str(c-1)]=[s,e]     \n",
    "    segments = {}\n",
    "    \n",
    "    for x in limits:\n",
    "        \n",
    "        segments[x]=data[limits[x][0]:limits[x][1]]\n",
    "        \n",
    "    for x in segments:\n",
    "        \n",
    "        raw = segments[x]\n",
    "        new = \" \"\n",
    "        \n",
    "        for i in raw:\n",
    "            if len(i.split())>5:\n",
    "                new+=i.strip()\n",
    "                \n",
    "        segments[x]=new\n",
    "    #print(limits)\n",
    "    json.dump(segments,open('items/'+str(doc)+'.json','w'))"
   ]
  },
  {
   "cell_type": "code",
   "execution_count": 4,
   "metadata": {},
   "outputs": [
    {
     "name": "stderr",
     "output_type": "stream",
     "text": [
      "440it [10:32,  1.44s/it]\n"
     ]
    }
   ],
   "source": [
    "if setup:\n",
    "    count = 0\n",
    "\n",
    "    for i in tqdm(Path(\"./text_only\").glob(\"*\")):\n",
    "        try:\n",
    "            with codecs.open(i,'r', encoding = 'utf-8', errors = 'ignore') as f:\n",
    "                #print(str(i).split('/')[-1].split('.')[0])\n",
    "                cut(f.readlines(),str(i).split('/')[-1].split('.')[0])\n",
    "                count+=1\n",
    "        except:\n",
    "            pass"
   ]
  },
  {
   "cell_type": "code",
   "execution_count": 5,
   "metadata": {},
   "outputs": [
    {
     "ename": "FileNotFoundError",
     "evalue": "[Errno 2] No such file or directory: 'data/0.txt'",
     "output_type": "error",
     "traceback": [
      "\u001b[0;31m---------------------------------------------------------------------------\u001b[0m",
      "\u001b[0;31mFileNotFoundError\u001b[0m                         Traceback (most recent call last)",
      "\u001b[0;32m<ipython-input-5-f3c9655776ba>\u001b[0m in \u001b[0;36m<module>\u001b[0;34m\u001b[0m\n\u001b[0;32m----> 1\u001b[0;31m \u001b[0;32mwith\u001b[0m \u001b[0mopen\u001b[0m\u001b[0;34m(\u001b[0m\u001b[0;34m'data/0.txt'\u001b[0m\u001b[0;34m,\u001b[0m\u001b[0;34m'r'\u001b[0m\u001b[0;34m)\u001b[0m \u001b[0;32mas\u001b[0m \u001b[0mfile\u001b[0m\u001b[0;34m:\u001b[0m\u001b[0;34m\u001b[0m\u001b[0;34m\u001b[0m\u001b[0m\n\u001b[0m\u001b[1;32m      2\u001b[0m     \u001b[0mcut\u001b[0m\u001b[0;34m(\u001b[0m\u001b[0mfile\u001b[0m\u001b[0;34m.\u001b[0m\u001b[0mreadlines\u001b[0m\u001b[0;34m(\u001b[0m\u001b[0;34m)\u001b[0m\u001b[0;34m,\u001b[0m\u001b[0;36m0\u001b[0m\u001b[0;34m)\u001b[0m\u001b[0;34m\u001b[0m\u001b[0;34m\u001b[0m\u001b[0m\n",
      "\u001b[0;31mFileNotFoundError\u001b[0m: [Errno 2] No such file or directory: 'data/0.txt'"
     ]
    }
   ],
   "source": [
    "with open('data/0.txt','r') as file:\n",
    "    cut(file.readlines(),0)"
   ]
  },
  {
   "cell_type": "code",
   "execution_count": null,
   "metadata": {
    "scrolled": false
   },
   "outputs": [],
   "source": [
    "x = json.load(open('0.json','r'))\n",
    "for i in x:\n",
    "    print(\"-\"*75)\n",
    "    print(i)\n",
    "    print(len(x[i].split()))\n",
    "    print(\"-\"*75)"
   ]
  },
  {
   "cell_type": "code",
   "execution_count": null,
   "metadata": {},
   "outputs": [],
   "source": []
  }
 ],
 "metadata": {
  "kernelspec": {
   "display_name": "Python 3",
   "language": "python",
   "name": "python3"
  },
  "language_info": {
   "codemirror_mode": {
    "name": "ipython",
    "version": 3
   },
   "file_extension": ".py",
   "mimetype": "text/x-python",
   "name": "python",
   "nbconvert_exporter": "python",
   "pygments_lexer": "ipython3",
   "version": "3.8.2"
  }
 },
 "nbformat": 4,
 "nbformat_minor": 4
}
